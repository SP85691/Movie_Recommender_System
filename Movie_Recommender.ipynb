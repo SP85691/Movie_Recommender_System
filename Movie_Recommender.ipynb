{
 "cells": [
  {
   "cell_type": "markdown",
   "source": [
    "### Import all Dependencies"
   ],
   "metadata": {
    "collapsed": false,
    "pycharm": {
     "name": "#%% md\n"
    }
   }
  },
  {
   "cell_type": "code",
   "execution_count": 1,
   "outputs": [],
   "source": [
    "import pandas as pd\n",
    "import numpy as np\n",
    "import ast"
   ],
   "metadata": {
    "collapsed": false,
    "pycharm": {
     "name": "#%%\n"
    }
   }
  },
  {
   "cell_type": "markdown",
   "source": [
    "### Add CSV Files\n",
    "#### -'tmdb_5000_movies.csv'\n",
    "#### -'tmdb_5000_credits.csv'"
   ],
   "metadata": {
    "collapsed": false,
    "pycharm": {
     "name": "#%% md\n"
    }
   }
  },
  {
   "cell_type": "code",
   "execution_count": 2,
   "id": "7d674ebb-199b-4b2d-a9f5-0a78cb18307d",
   "metadata": {
    "pycharm": {
     "name": "#%%\n"
    }
   },
   "outputs": [],
   "source": [
    "movies = pd.read_csv('tmdb_5000_movies.csv')\n",
    "credits = pd.read_csv('tmdb_5000_credits.csv')"
   ]
  },
  {
   "cell_type": "code",
   "execution_count": 3,
   "id": "e58ad964-7185-476a-9e6f-f8316faa9790",
   "metadata": {
    "pycharm": {
     "name": "#%%\n"
    }
   },
   "outputs": [
    {
     "data": {
      "text/html": [
       "<div>\n",
       "<style scoped>\n",
       "    .dataframe tbody tr th:only-of-type {\n",
       "        vertical-align: middle;\n",
       "    }\n",
       "\n",
       "    .dataframe tbody tr th {\n",
       "        vertical-align: top;\n",
       "    }\n",
       "\n",
       "    .dataframe thead th {\n",
       "        text-align: right;\n",
       "    }\n",
       "</style>\n",
       "<table border=\"1\" class=\"dataframe\">\n",
       "  <thead>\n",
       "    <tr style=\"text-align: right;\">\n",
       "      <th></th>\n",
       "      <th>budget</th>\n",
       "      <th>genres</th>\n",
       "      <th>homepage</th>\n",
       "      <th>id</th>\n",
       "      <th>keywords</th>\n",
       "      <th>original_language</th>\n",
       "      <th>original_title</th>\n",
       "      <th>overview</th>\n",
       "      <th>popularity</th>\n",
       "      <th>production_companies</th>\n",
       "      <th>production_countries</th>\n",
       "      <th>release_date</th>\n",
       "      <th>revenue</th>\n",
       "      <th>runtime</th>\n",
       "      <th>spoken_languages</th>\n",
       "      <th>status</th>\n",
       "      <th>tagline</th>\n",
       "      <th>title</th>\n",
       "      <th>vote_average</th>\n",
       "      <th>vote_count</th>\n",
       "    </tr>\n",
       "  </thead>\n",
       "  <tbody>\n",
       "    <tr>\n",
       "      <th>0</th>\n",
       "      <td>237000000</td>\n",
       "      <td>[{\"id\": 28, \"name\": \"Action\"}, {\"id\": 12, \"nam...</td>\n",
       "      <td>http://www.avatarmovie.com/</td>\n",
       "      <td>19995</td>\n",
       "      <td>[{\"id\": 1463, \"name\": \"culture clash\"}, {\"id\":...</td>\n",
       "      <td>en</td>\n",
       "      <td>Avatar</td>\n",
       "      <td>In the 22nd century, a paraplegic Marine is di...</td>\n",
       "      <td>150.437577</td>\n",
       "      <td>[{\"name\": \"Ingenious Film Partners\", \"id\": 289...</td>\n",
       "      <td>[{\"iso_3166_1\": \"US\", \"name\": \"United States o...</td>\n",
       "      <td>2009-12-10</td>\n",
       "      <td>2787965087</td>\n",
       "      <td>162.0</td>\n",
       "      <td>[{\"iso_639_1\": \"en\", \"name\": \"English\"}, {\"iso...</td>\n",
       "      <td>Released</td>\n",
       "      <td>Enter the World of Pandora.</td>\n",
       "      <td>Avatar</td>\n",
       "      <td>7.2</td>\n",
       "      <td>11800</td>\n",
       "    </tr>\n",
       "  </tbody>\n",
       "</table>\n",
       "</div>"
      ],
      "text/plain": [
       "      budget                                             genres  \\\n",
       "0  237000000  [{\"id\": 28, \"name\": \"Action\"}, {\"id\": 12, \"nam...   \n",
       "\n",
       "                      homepage     id  \\\n",
       "0  http://www.avatarmovie.com/  19995   \n",
       "\n",
       "                                            keywords original_language  \\\n",
       "0  [{\"id\": 1463, \"name\": \"culture clash\"}, {\"id\":...                en   \n",
       "\n",
       "  original_title                                           overview  \\\n",
       "0         Avatar  In the 22nd century, a paraplegic Marine is di...   \n",
       "\n",
       "   popularity                               production_companies  \\\n",
       "0  150.437577  [{\"name\": \"Ingenious Film Partners\", \"id\": 289...   \n",
       "\n",
       "                                production_countries release_date     revenue  \\\n",
       "0  [{\"iso_3166_1\": \"US\", \"name\": \"United States o...   2009-12-10  2787965087   \n",
       "\n",
       "   runtime                                   spoken_languages    status  \\\n",
       "0    162.0  [{\"iso_639_1\": \"en\", \"name\": \"English\"}, {\"iso...  Released   \n",
       "\n",
       "                       tagline   title  vote_average  vote_count  \n",
       "0  Enter the World of Pandora.  Avatar           7.2       11800  "
      ]
     },
     "execution_count": 3,
     "metadata": {},
     "output_type": "execute_result"
    }
   ],
   "source": [
    "movies.head(1)"
   ]
  },
  {
   "cell_type": "code",
   "execution_count": 4,
   "id": "cb96e1e3-6f4e-4a98-85cd-52e593b6cd93",
   "metadata": {
    "pycharm": {
     "name": "#%%\n"
    }
   },
   "outputs": [
    {
     "data": {
      "text/html": [
       "<div>\n",
       "<style scoped>\n",
       "    .dataframe tbody tr th:only-of-type {\n",
       "        vertical-align: middle;\n",
       "    }\n",
       "\n",
       "    .dataframe tbody tr th {\n",
       "        vertical-align: top;\n",
       "    }\n",
       "\n",
       "    .dataframe thead th {\n",
       "        text-align: right;\n",
       "    }\n",
       "</style>\n",
       "<table border=\"1\" class=\"dataframe\">\n",
       "  <thead>\n",
       "    <tr style=\"text-align: right;\">\n",
       "      <th></th>\n",
       "      <th>movie_id</th>\n",
       "      <th>title</th>\n",
       "      <th>cast</th>\n",
       "      <th>crew</th>\n",
       "    </tr>\n",
       "  </thead>\n",
       "  <tbody>\n",
       "    <tr>\n",
       "      <th>0</th>\n",
       "      <td>19995</td>\n",
       "      <td>Avatar</td>\n",
       "      <td>[{\"cast_id\": 242, \"character\": \"Jake Sully\", \"...</td>\n",
       "      <td>[{\"credit_id\": \"52fe48009251416c750aca23\", \"de...</td>\n",
       "    </tr>\n",
       "  </tbody>\n",
       "</table>\n",
       "</div>"
      ],
      "text/plain": [
       "   movie_id   title                                               cast  \\\n",
       "0     19995  Avatar  [{\"cast_id\": 242, \"character\": \"Jake Sully\", \"...   \n",
       "\n",
       "                                                crew  \n",
       "0  [{\"credit_id\": \"52fe48009251416c750aca23\", \"de...  "
      ]
     },
     "execution_count": 4,
     "metadata": {},
     "output_type": "execute_result"
    }
   ],
   "source": [
    "credits.head(1)"
   ]
  },
  {
   "cell_type": "markdown",
   "source": [
    "# Concatinate both CSV Files into One . . ."
   ],
   "metadata": {
    "collapsed": false,
    "pycharm": {
     "name": "#%% md\n"
    }
   }
  },
  {
   "cell_type": "code",
   "execution_count": 5,
   "id": "786f238b-0ee1-4fc8-a401-5ec78c464b92",
   "metadata": {
    "pycharm": {
     "name": "#%%\n"
    }
   },
   "outputs": [],
   "source": [
    "movies = movies.merge(credits, on='title')"
   ]
  },
  {
   "cell_type": "code",
   "execution_count": 6,
   "id": "0f2c54ac-00a3-4588-bce8-8b4a2e9635f8",
   "metadata": {
    "pycharm": {
     "name": "#%%\n"
    }
   },
   "outputs": [
    {
     "data": {
      "text/html": [
       "<div>\n",
       "<style scoped>\n",
       "    .dataframe tbody tr th:only-of-type {\n",
       "        vertical-align: middle;\n",
       "    }\n",
       "\n",
       "    .dataframe tbody tr th {\n",
       "        vertical-align: top;\n",
       "    }\n",
       "\n",
       "    .dataframe thead th {\n",
       "        text-align: right;\n",
       "    }\n",
       "</style>\n",
       "<table border=\"1\" class=\"dataframe\">\n",
       "  <thead>\n",
       "    <tr style=\"text-align: right;\">\n",
       "      <th></th>\n",
       "      <th>budget</th>\n",
       "      <th>genres</th>\n",
       "      <th>homepage</th>\n",
       "      <th>id</th>\n",
       "      <th>keywords</th>\n",
       "      <th>original_language</th>\n",
       "      <th>original_title</th>\n",
       "      <th>overview</th>\n",
       "      <th>popularity</th>\n",
       "      <th>production_companies</th>\n",
       "      <th>...</th>\n",
       "      <th>runtime</th>\n",
       "      <th>spoken_languages</th>\n",
       "      <th>status</th>\n",
       "      <th>tagline</th>\n",
       "      <th>title</th>\n",
       "      <th>vote_average</th>\n",
       "      <th>vote_count</th>\n",
       "      <th>movie_id</th>\n",
       "      <th>cast</th>\n",
       "      <th>crew</th>\n",
       "    </tr>\n",
       "  </thead>\n",
       "  <tbody>\n",
       "    <tr>\n",
       "      <th>0</th>\n",
       "      <td>237000000</td>\n",
       "      <td>[{\"id\": 28, \"name\": \"Action\"}, {\"id\": 12, \"nam...</td>\n",
       "      <td>http://www.avatarmovie.com/</td>\n",
       "      <td>19995</td>\n",
       "      <td>[{\"id\": 1463, \"name\": \"culture clash\"}, {\"id\":...</td>\n",
       "      <td>en</td>\n",
       "      <td>Avatar</td>\n",
       "      <td>In the 22nd century, a paraplegic Marine is di...</td>\n",
       "      <td>150.437577</td>\n",
       "      <td>[{\"name\": \"Ingenious Film Partners\", \"id\": 289...</td>\n",
       "      <td>...</td>\n",
       "      <td>162.0</td>\n",
       "      <td>[{\"iso_639_1\": \"en\", \"name\": \"English\"}, {\"iso...</td>\n",
       "      <td>Released</td>\n",
       "      <td>Enter the World of Pandora.</td>\n",
       "      <td>Avatar</td>\n",
       "      <td>7.2</td>\n",
       "      <td>11800</td>\n",
       "      <td>19995</td>\n",
       "      <td>[{\"cast_id\": 242, \"character\": \"Jake Sully\", \"...</td>\n",
       "      <td>[{\"credit_id\": \"52fe48009251416c750aca23\", \"de...</td>\n",
       "    </tr>\n",
       "  </tbody>\n",
       "</table>\n",
       "<p>1 rows × 23 columns</p>\n",
       "</div>"
      ],
      "text/plain": [
       "      budget                                             genres  \\\n",
       "0  237000000  [{\"id\": 28, \"name\": \"Action\"}, {\"id\": 12, \"nam...   \n",
       "\n",
       "                      homepage     id  \\\n",
       "0  http://www.avatarmovie.com/  19995   \n",
       "\n",
       "                                            keywords original_language  \\\n",
       "0  [{\"id\": 1463, \"name\": \"culture clash\"}, {\"id\":...                en   \n",
       "\n",
       "  original_title                                           overview  \\\n",
       "0         Avatar  In the 22nd century, a paraplegic Marine is di...   \n",
       "\n",
       "   popularity                               production_companies  ... runtime  \\\n",
       "0  150.437577  [{\"name\": \"Ingenious Film Partners\", \"id\": 289...  ...   162.0   \n",
       "\n",
       "                                    spoken_languages    status  \\\n",
       "0  [{\"iso_639_1\": \"en\", \"name\": \"English\"}, {\"iso...  Released   \n",
       "\n",
       "                       tagline   title vote_average vote_count movie_id  \\\n",
       "0  Enter the World of Pandora.  Avatar          7.2      11800    19995   \n",
       "\n",
       "                                                cast  \\\n",
       "0  [{\"cast_id\": 242, \"character\": \"Jake Sully\", \"...   \n",
       "\n",
       "                                                crew  \n",
       "0  [{\"credit_id\": \"52fe48009251416c750aca23\", \"de...  \n",
       "\n",
       "[1 rows x 23 columns]"
      ]
     },
     "execution_count": 6,
     "metadata": {},
     "output_type": "execute_result"
    }
   ],
   "source": [
    "movies.head(1)"
   ]
  },
  {
   "cell_type": "code",
   "execution_count": 7,
   "id": "ca01b49e-e249-4202-8f0a-029a76378939",
   "metadata": {
    "pycharm": {
     "name": "#%%\n"
    }
   },
   "outputs": [
    {
     "data": {
      "text/plain": [
       "(4809, 23)"
      ]
     },
     "execution_count": 7,
     "metadata": {},
     "output_type": "execute_result"
    }
   ],
   "source": [
    "movies.shape"
   ]
  },
  {
   "cell_type": "code",
   "execution_count": 8,
   "id": "b41b6d5e-f7bf-4a57-9bc6-628cf059b361",
   "metadata": {
    "pycharm": {
     "name": "#%%\n"
    }
   },
   "outputs": [
    {
     "name": "stdout",
     "output_type": "stream",
     "text": [
      "<class 'pandas.core.frame.DataFrame'>\n",
      "Int64Index: 4809 entries, 0 to 4808\n",
      "Data columns (total 23 columns):\n",
      " #   Column                Non-Null Count  Dtype  \n",
      "---  ------                --------------  -----  \n",
      " 0   budget                4809 non-null   int64  \n",
      " 1   genres                4809 non-null   object \n",
      " 2   homepage              1713 non-null   object \n",
      " 3   id                    4809 non-null   int64  \n",
      " 4   keywords              4809 non-null   object \n",
      " 5   original_language     4809 non-null   object \n",
      " 6   original_title        4809 non-null   object \n",
      " 7   overview              4806 non-null   object \n",
      " 8   popularity            4809 non-null   float64\n",
      " 9   production_companies  4809 non-null   object \n",
      " 10  production_countries  4809 non-null   object \n",
      " 11  release_date          4808 non-null   object \n",
      " 12  revenue               4809 non-null   int64  \n",
      " 13  runtime               4807 non-null   float64\n",
      " 14  spoken_languages      4809 non-null   object \n",
      " 15  status                4809 non-null   object \n",
      " 16  tagline               3965 non-null   object \n",
      " 17  title                 4809 non-null   object \n",
      " 18  vote_average          4809 non-null   float64\n",
      " 19  vote_count            4809 non-null   int64  \n",
      " 20  movie_id              4809 non-null   int64  \n",
      " 21  cast                  4809 non-null   object \n",
      " 22  crew                  4809 non-null   object \n",
      "dtypes: float64(3), int64(5), object(15)\n",
      "memory usage: 901.7+ KB\n"
     ]
    }
   ],
   "source": [
    "movies.info()"
   ]
  },
  {
   "cell_type": "markdown",
   "source": [
    "### Keep all those columns which are useful for analysis!"
   ],
   "metadata": {
    "collapsed": false,
    "pycharm": {
     "name": "#%% md\n"
    }
   }
  },
  {
   "cell_type": "code",
   "execution_count": 9,
   "id": "7c7b0e4a-6132-48e5-bd60-afa05f4e353f",
   "metadata": {
    "pycharm": {
     "name": "#%%\n"
    }
   },
   "outputs": [],
   "source": [
    "#Which Column do we need 🤔?\n",
    "#- Genres\n",
    "#- Id\n",
    "#- Keywords\n",
    "#- Title\n",
    "#- Overview\n",
    "#- Cast\n",
    "#- Crew"
   ]
  },
  {
   "cell_type": "code",
   "execution_count": 10,
   "id": "022b7ff6-1e5d-4fb1-8766-cbc93846957d",
   "metadata": {
    "pycharm": {
     "name": "#%%\n"
    }
   },
   "outputs": [],
   "source": [
    "movies = movies[['genres', 'id', 'keywords', 'overview', 'title', 'cast', 'crew']]"
   ]
  },
  {
   "cell_type": "code",
   "execution_count": 11,
   "id": "0bcd3cb0-c873-4ef8-a293-ef247ed163f0",
   "metadata": {
    "pycharm": {
     "name": "#%%\n"
    }
   },
   "outputs": [
    {
     "data": {
      "text/html": [
       "<div>\n",
       "<style scoped>\n",
       "    .dataframe tbody tr th:only-of-type {\n",
       "        vertical-align: middle;\n",
       "    }\n",
       "\n",
       "    .dataframe tbody tr th {\n",
       "        vertical-align: top;\n",
       "    }\n",
       "\n",
       "    .dataframe thead th {\n",
       "        text-align: right;\n",
       "    }\n",
       "</style>\n",
       "<table border=\"1\" class=\"dataframe\">\n",
       "  <thead>\n",
       "    <tr style=\"text-align: right;\">\n",
       "      <th></th>\n",
       "      <th>genres</th>\n",
       "      <th>id</th>\n",
       "      <th>keywords</th>\n",
       "      <th>overview</th>\n",
       "      <th>title</th>\n",
       "      <th>cast</th>\n",
       "      <th>crew</th>\n",
       "    </tr>\n",
       "  </thead>\n",
       "  <tbody>\n",
       "    <tr>\n",
       "      <th>0</th>\n",
       "      <td>[{\"id\": 28, \"name\": \"Action\"}, {\"id\": 12, \"nam...</td>\n",
       "      <td>19995</td>\n",
       "      <td>[{\"id\": 1463, \"name\": \"culture clash\"}, {\"id\":...</td>\n",
       "      <td>In the 22nd century, a paraplegic Marine is di...</td>\n",
       "      <td>Avatar</td>\n",
       "      <td>[{\"cast_id\": 242, \"character\": \"Jake Sully\", \"...</td>\n",
       "      <td>[{\"credit_id\": \"52fe48009251416c750aca23\", \"de...</td>\n",
       "    </tr>\n",
       "  </tbody>\n",
       "</table>\n",
       "</div>"
      ],
      "text/plain": [
       "                                              genres     id  \\\n",
       "0  [{\"id\": 28, \"name\": \"Action\"}, {\"id\": 12, \"nam...  19995   \n",
       "\n",
       "                                            keywords  \\\n",
       "0  [{\"id\": 1463, \"name\": \"culture clash\"}, {\"id\":...   \n",
       "\n",
       "                                            overview   title  \\\n",
       "0  In the 22nd century, a paraplegic Marine is di...  Avatar   \n",
       "\n",
       "                                                cast  \\\n",
       "0  [{\"cast_id\": 242, \"character\": \"Jake Sully\", \"...   \n",
       "\n",
       "                                                crew  \n",
       "0  [{\"credit_id\": \"52fe48009251416c750aca23\", \"de...  "
      ]
     },
     "execution_count": 11,
     "metadata": {},
     "output_type": "execute_result"
    }
   ],
   "source": [
    "movies.head(1)"
   ]
  },
  {
   "cell_type": "code",
   "execution_count": 137,
   "id": "30ad5377-1b34-4e76-96c9-09ea4456b45e",
   "metadata": {
    "pycharm": {
     "name": "#%%\n"
    }
   },
   "outputs": [
    {
     "data": {
      "text/plain": [
       "(4806, 8)"
      ]
     },
     "execution_count": 137,
     "metadata": {},
     "output_type": "execute_result"
    }
   ],
   "source": [
    "movies.shape"
   ]
  },
  {
   "cell_type": "code",
   "execution_count": 12,
   "id": "d9bf4877-09a0-4cc5-91b5-1bc29c20adeb",
   "metadata": {
    "pycharm": {
     "name": "#%%\n"
    }
   },
   "outputs": [
    {
     "data": {
      "text/plain": [
       "genres      0\n",
       "id          0\n",
       "keywords    0\n",
       "overview    3\n",
       "title       0\n",
       "cast        0\n",
       "crew        0\n",
       "dtype: int64"
      ]
     },
     "execution_count": 12,
     "metadata": {},
     "output_type": "execute_result"
    }
   ],
   "source": [
    "movies.isnull().sum()"
   ]
  },
  {
   "cell_type": "code",
   "execution_count": 13,
   "id": "be3a7671-6c6d-44e1-ad52-48a5758e439c",
   "metadata": {
    "pycharm": {
     "name": "#%%\n"
    }
   },
   "outputs": [],
   "source": [
    "movies.dropna(inplace=True)"
   ]
  },
  {
   "cell_type": "code",
   "execution_count": 14,
   "id": "f3a8be0a-e5e8-4fbe-9876-09f860522b53",
   "metadata": {
    "pycharm": {
     "name": "#%%\n"
    }
   },
   "outputs": [
    {
     "data": {
      "text/plain": [
       "0"
      ]
     },
     "execution_count": 14,
     "metadata": {},
     "output_type": "execute_result"
    }
   ],
   "source": [
    "movies.duplicated().sum()"
   ]
  },
  {
   "cell_type": "markdown",
   "source": [
    "### Converting All Columns From Dictionary to List\n",
    "### 1. Genres"
   ],
   "metadata": {
    "collapsed": false,
    "pycharm": {
     "name": "#%% md\n"
    }
   }
  },
  {
   "cell_type": "code",
   "execution_count": 15,
   "outputs": [
    {
     "data": {
      "text/plain": [
       "'[{\"id\": 28, \"name\": \"Action\"}, {\"id\": 12, \"name\": \"Adventure\"}, {\"id\": 14, \"name\": \"Fantasy\"}, {\"id\": 878, \"name\": \"Science Fiction\"}]'"
      ]
     },
     "execution_count": 15,
     "metadata": {},
     "output_type": "execute_result"
    }
   ],
   "source": [
    "movies.iloc[0].genres"
   ],
   "metadata": {
    "collapsed": false,
    "pycharm": {
     "name": "#%%\n"
    }
   }
  },
  {
   "cell_type": "code",
   "execution_count": 16,
   "id": "80392e3a-37ac-4986-b47d-ef24602c452c",
   "metadata": {
    "pycharm": {
     "name": "#%%\n"
    }
   },
   "outputs": [],
   "source": [
    "# Convert genres from dictionary to list\n",
    "def convert(obj):\n",
    "    L = []\n",
    "    for i in ast.literal_eval(obj):\n",
    "        L.append(i['name'])\n",
    "    return L "
   ]
  },
  {
   "cell_type": "code",
   "execution_count": 17,
   "id": "6508e694-2ad3-4fde-8c37-453fcae50986",
   "metadata": {
    "pycharm": {
     "name": "#%%\n"
    }
   },
   "outputs": [],
   "source": [
    "movies['genres'] = movies['genres'].apply(convert)"
   ]
  },
  {
   "cell_type": "code",
   "execution_count": 18,
   "id": "2bd11516-9f55-44d4-80cc-01dde9ccc76c",
   "metadata": {
    "pycharm": {
     "name": "#%%\n"
    }
   },
   "outputs": [
    {
     "data": {
      "text/html": [
       "<div>\n",
       "<style scoped>\n",
       "    .dataframe tbody tr th:only-of-type {\n",
       "        vertical-align: middle;\n",
       "    }\n",
       "\n",
       "    .dataframe tbody tr th {\n",
       "        vertical-align: top;\n",
       "    }\n",
       "\n",
       "    .dataframe thead th {\n",
       "        text-align: right;\n",
       "    }\n",
       "</style>\n",
       "<table border=\"1\" class=\"dataframe\">\n",
       "  <thead>\n",
       "    <tr style=\"text-align: right;\">\n",
       "      <th></th>\n",
       "      <th>genres</th>\n",
       "      <th>id</th>\n",
       "      <th>keywords</th>\n",
       "      <th>overview</th>\n",
       "      <th>title</th>\n",
       "      <th>cast</th>\n",
       "      <th>crew</th>\n",
       "    </tr>\n",
       "  </thead>\n",
       "  <tbody>\n",
       "    <tr>\n",
       "      <th>0</th>\n",
       "      <td>[Action, Adventure, Fantasy, Science Fiction]</td>\n",
       "      <td>19995</td>\n",
       "      <td>[{\"id\": 1463, \"name\": \"culture clash\"}, {\"id\":...</td>\n",
       "      <td>In the 22nd century, a paraplegic Marine is di...</td>\n",
       "      <td>Avatar</td>\n",
       "      <td>[{\"cast_id\": 242, \"character\": \"Jake Sully\", \"...</td>\n",
       "      <td>[{\"credit_id\": \"52fe48009251416c750aca23\", \"de...</td>\n",
       "    </tr>\n",
       "  </tbody>\n",
       "</table>\n",
       "</div>"
      ],
      "text/plain": [
       "                                          genres     id  \\\n",
       "0  [Action, Adventure, Fantasy, Science Fiction]  19995   \n",
       "\n",
       "                                            keywords  \\\n",
       "0  [{\"id\": 1463, \"name\": \"culture clash\"}, {\"id\":...   \n",
       "\n",
       "                                            overview   title  \\\n",
       "0  In the 22nd century, a paraplegic Marine is di...  Avatar   \n",
       "\n",
       "                                                cast  \\\n",
       "0  [{\"cast_id\": 242, \"character\": \"Jake Sully\", \"...   \n",
       "\n",
       "                                                crew  \n",
       "0  [{\"credit_id\": \"52fe48009251416c750aca23\", \"de...  "
      ]
     },
     "execution_count": 18,
     "metadata": {},
     "output_type": "execute_result"
    }
   ],
   "source": [
    "movies.head(1)"
   ]
  },
  {
   "cell_type": "markdown",
   "source": [
    "### 2. Keywords"
   ],
   "metadata": {
    "collapsed": false,
    "pycharm": {
     "name": "#%% md\n"
    }
   }
  },
  {
   "cell_type": "code",
   "execution_count": 19,
   "outputs": [
    {
     "data": {
      "text/plain": [
       "'[{\"id\": 470, \"name\": \"spy\"}, {\"id\": 818, \"name\": \"based on novel\"}, {\"id\": 4289, \"name\": \"secret agent\"}, {\"id\": 9663, \"name\": \"sequel\"}, {\"id\": 14555, \"name\": \"mi6\"}, {\"id\": 156095, \"name\": \"british secret service\"}, {\"id\": 158431, \"name\": \"united kingdom\"}]'"
      ]
     },
     "execution_count": 19,
     "metadata": {},
     "output_type": "execute_result"
    }
   ],
   "source": [
    "movies.iloc[2].keywords"
   ],
   "metadata": {
    "collapsed": false,
    "pycharm": {
     "name": "#%%\n"
    }
   }
  },
  {
   "cell_type": "code",
   "execution_count": 20,
   "id": "f06b078e-599d-4fd7-8704-e5a403ffe0fc",
   "metadata": {
    "pycharm": {
     "name": "#%%\n"
    }
   },
   "outputs": [],
   "source": [
    "movies['keywords'] = movies['keywords'].apply(convert)"
   ]
  },
  {
   "cell_type": "code",
   "execution_count": 21,
   "id": "f693c178-0d2a-43b1-b597-901b05a7fe47",
   "metadata": {
    "pycharm": {
     "name": "#%%\n"
    }
   },
   "outputs": [
    {
     "data": {
      "text/html": [
       "<div>\n",
       "<style scoped>\n",
       "    .dataframe tbody tr th:only-of-type {\n",
       "        vertical-align: middle;\n",
       "    }\n",
       "\n",
       "    .dataframe tbody tr th {\n",
       "        vertical-align: top;\n",
       "    }\n",
       "\n",
       "    .dataframe thead th {\n",
       "        text-align: right;\n",
       "    }\n",
       "</style>\n",
       "<table border=\"1\" class=\"dataframe\">\n",
       "  <thead>\n",
       "    <tr style=\"text-align: right;\">\n",
       "      <th></th>\n",
       "      <th>genres</th>\n",
       "      <th>id</th>\n",
       "      <th>keywords</th>\n",
       "      <th>overview</th>\n",
       "      <th>title</th>\n",
       "      <th>cast</th>\n",
       "      <th>crew</th>\n",
       "    </tr>\n",
       "  </thead>\n",
       "  <tbody>\n",
       "    <tr>\n",
       "      <th>0</th>\n",
       "      <td>[Action, Adventure, Fantasy, Science Fiction]</td>\n",
       "      <td>19995</td>\n",
       "      <td>[culture clash, future, space war, space colon...</td>\n",
       "      <td>In the 22nd century, a paraplegic Marine is di...</td>\n",
       "      <td>Avatar</td>\n",
       "      <td>[{\"cast_id\": 242, \"character\": \"Jake Sully\", \"...</td>\n",
       "      <td>[{\"credit_id\": \"52fe48009251416c750aca23\", \"de...</td>\n",
       "    </tr>\n",
       "  </tbody>\n",
       "</table>\n",
       "</div>"
      ],
      "text/plain": [
       "                                          genres     id  \\\n",
       "0  [Action, Adventure, Fantasy, Science Fiction]  19995   \n",
       "\n",
       "                                            keywords  \\\n",
       "0  [culture clash, future, space war, space colon...   \n",
       "\n",
       "                                            overview   title  \\\n",
       "0  In the 22nd century, a paraplegic Marine is di...  Avatar   \n",
       "\n",
       "                                                cast  \\\n",
       "0  [{\"cast_id\": 242, \"character\": \"Jake Sully\", \"...   \n",
       "\n",
       "                                                crew  \n",
       "0  [{\"credit_id\": \"52fe48009251416c750aca23\", \"de...  "
      ]
     },
     "execution_count": 21,
     "metadata": {},
     "output_type": "execute_result"
    }
   ],
   "source": [
    "movies.head(1)"
   ]
  },
  {
   "cell_type": "markdown",
   "source": [
    "### 3. Cast"
   ],
   "metadata": {
    "collapsed": false,
    "pycharm": {
     "name": "#%% md\n"
    }
   }
  },
  {
   "cell_type": "code",
   "execution_count": 22,
   "id": "6d99813d-6571-4365-83a2-4e3d9bc9d9d4",
   "metadata": {
    "pycharm": {
     "name": "#%%\n"
    }
   },
   "outputs": [],
   "source": [
    "def convert_cast(obj):\n",
    "    L = []\n",
    "    counter = 0\n",
    "    for i in ast.literal_eval(obj):\n",
    "        if counter !=3:\n",
    "            L.append(i['name'])\n",
    "            counter += 1\n",
    "        else:\n",
    "            break\n",
    "    return L "
   ]
  },
  {
   "cell_type": "code",
   "execution_count": 23,
   "id": "29d9ba3d-e1bc-44cb-8f64-876aed4f09e1",
   "metadata": {
    "pycharm": {
     "name": "#%%\n"
    }
   },
   "outputs": [],
   "source": [
    "movies['cast'] = movies['cast'].apply(convert_cast) "
   ]
  },
  {
   "cell_type": "code",
   "execution_count": 24,
   "id": "0d2ac32b-11e3-44e5-a3e4-a067fd18c6b5",
   "metadata": {
    "pycharm": {
     "name": "#%%\n"
    }
   },
   "outputs": [
    {
     "data": {
      "text/html": [
       "<div>\n",
       "<style scoped>\n",
       "    .dataframe tbody tr th:only-of-type {\n",
       "        vertical-align: middle;\n",
       "    }\n",
       "\n",
       "    .dataframe tbody tr th {\n",
       "        vertical-align: top;\n",
       "    }\n",
       "\n",
       "    .dataframe thead th {\n",
       "        text-align: right;\n",
       "    }\n",
       "</style>\n",
       "<table border=\"1\" class=\"dataframe\">\n",
       "  <thead>\n",
       "    <tr style=\"text-align: right;\">\n",
       "      <th></th>\n",
       "      <th>genres</th>\n",
       "      <th>id</th>\n",
       "      <th>keywords</th>\n",
       "      <th>overview</th>\n",
       "      <th>title</th>\n",
       "      <th>cast</th>\n",
       "      <th>crew</th>\n",
       "    </tr>\n",
       "  </thead>\n",
       "  <tbody>\n",
       "    <tr>\n",
       "      <th>0</th>\n",
       "      <td>[Action, Adventure, Fantasy, Science Fiction]</td>\n",
       "      <td>19995</td>\n",
       "      <td>[culture clash, future, space war, space colon...</td>\n",
       "      <td>In the 22nd century, a paraplegic Marine is di...</td>\n",
       "      <td>Avatar</td>\n",
       "      <td>[Sam Worthington, Zoe Saldana, Sigourney Weaver]</td>\n",
       "      <td>[{\"credit_id\": \"52fe48009251416c750aca23\", \"de...</td>\n",
       "    </tr>\n",
       "  </tbody>\n",
       "</table>\n",
       "</div>"
      ],
      "text/plain": [
       "                                          genres     id  \\\n",
       "0  [Action, Adventure, Fantasy, Science Fiction]  19995   \n",
       "\n",
       "                                            keywords  \\\n",
       "0  [culture clash, future, space war, space colon...   \n",
       "\n",
       "                                            overview   title  \\\n",
       "0  In the 22nd century, a paraplegic Marine is di...  Avatar   \n",
       "\n",
       "                                               cast  \\\n",
       "0  [Sam Worthington, Zoe Saldana, Sigourney Weaver]   \n",
       "\n",
       "                                                crew  \n",
       "0  [{\"credit_id\": \"52fe48009251416c750aca23\", \"de...  "
      ]
     },
     "execution_count": 24,
     "metadata": {},
     "output_type": "execute_result"
    }
   ],
   "source": [
    "movies.head(1)"
   ]
  },
  {
   "cell_type": "code",
   "execution_count": 25,
   "id": "3f89a154-789c-464b-a037-5bcc30fcab08",
   "metadata": {
    "pycharm": {
     "name": "#%%\n"
    }
   },
   "outputs": [],
   "source": [
    "def fetch_dicrector(val):\n",
    "    L = []\n",
    "    for i in ast.literal_eval(val):\n",
    "        if i['job'] == 'Director':\n",
    "            L.append(i['name'])\n",
    "            break\n",
    "    return L"
   ]
  },
  {
   "cell_type": "code",
   "execution_count": 26,
   "id": "0defb6cc-6035-4aa9-9fca-1c888d632a54",
   "metadata": {
    "pycharm": {
     "name": "#%%\n"
    }
   },
   "outputs": [],
   "source": [
    "# Fecting Director Name from The Crew\n",
    "movies['crew'] = movies['crew'].apply(fetch_dicrector)"
   ]
  },
  {
   "cell_type": "code",
   "execution_count": 27,
   "id": "993766fe-afec-4f7e-9e0f-4538c6f4dfdc",
   "metadata": {
    "pycharm": {
     "name": "#%%\n"
    }
   },
   "outputs": [
    {
     "data": {
      "text/html": [
       "<div>\n",
       "<style scoped>\n",
       "    .dataframe tbody tr th:only-of-type {\n",
       "        vertical-align: middle;\n",
       "    }\n",
       "\n",
       "    .dataframe tbody tr th {\n",
       "        vertical-align: top;\n",
       "    }\n",
       "\n",
       "    .dataframe thead th {\n",
       "        text-align: right;\n",
       "    }\n",
       "</style>\n",
       "<table border=\"1\" class=\"dataframe\">\n",
       "  <thead>\n",
       "    <tr style=\"text-align: right;\">\n",
       "      <th></th>\n",
       "      <th>genres</th>\n",
       "      <th>id</th>\n",
       "      <th>keywords</th>\n",
       "      <th>overview</th>\n",
       "      <th>title</th>\n",
       "      <th>cast</th>\n",
       "      <th>crew</th>\n",
       "    </tr>\n",
       "  </thead>\n",
       "  <tbody>\n",
       "    <tr>\n",
       "      <th>0</th>\n",
       "      <td>[Action, Adventure, Fantasy, Science Fiction]</td>\n",
       "      <td>19995</td>\n",
       "      <td>[culture clash, future, space war, space colon...</td>\n",
       "      <td>In the 22nd century, a paraplegic Marine is di...</td>\n",
       "      <td>Avatar</td>\n",
       "      <td>[Sam Worthington, Zoe Saldana, Sigourney Weaver]</td>\n",
       "      <td>[James Cameron]</td>\n",
       "    </tr>\n",
       "  </tbody>\n",
       "</table>\n",
       "</div>"
      ],
      "text/plain": [
       "                                          genres     id  \\\n",
       "0  [Action, Adventure, Fantasy, Science Fiction]  19995   \n",
       "\n",
       "                                            keywords  \\\n",
       "0  [culture clash, future, space war, space colon...   \n",
       "\n",
       "                                            overview   title  \\\n",
       "0  In the 22nd century, a paraplegic Marine is di...  Avatar   \n",
       "\n",
       "                                               cast             crew  \n",
       "0  [Sam Worthington, Zoe Saldana, Sigourney Weaver]  [James Cameron]  "
      ]
     },
     "execution_count": 27,
     "metadata": {},
     "output_type": "execute_result"
    }
   ],
   "source": [
    "movies.head(1)"
   ]
  },
  {
   "cell_type": "markdown",
   "source": [
    "### 4. Overview"
   ],
   "metadata": {
    "collapsed": false,
    "pycharm": {
     "name": "#%% md\n"
    }
   }
  },
  {
   "cell_type": "code",
   "execution_count": 28,
   "id": "932c103e-7733-49a6-97d8-68d3c7a9b3fe",
   "metadata": {
    "pycharm": {
     "name": "#%%\n"
    }
   },
   "outputs": [],
   "source": [
    "# Converting Into List from String :\n",
    "movies['overview'] = movies['overview'].apply(lambda x:x.split())"
   ]
  },
  {
   "cell_type": "code",
   "execution_count": 29,
   "id": "29489256-82e8-4e98-ac42-e8a0a6549cff",
   "metadata": {
    "pycharm": {
     "name": "#%%\n"
    }
   },
   "outputs": [
    {
     "data": {
      "text/html": [
       "<div>\n",
       "<style scoped>\n",
       "    .dataframe tbody tr th:only-of-type {\n",
       "        vertical-align: middle;\n",
       "    }\n",
       "\n",
       "    .dataframe tbody tr th {\n",
       "        vertical-align: top;\n",
       "    }\n",
       "\n",
       "    .dataframe thead th {\n",
       "        text-align: right;\n",
       "    }\n",
       "</style>\n",
       "<table border=\"1\" class=\"dataframe\">\n",
       "  <thead>\n",
       "    <tr style=\"text-align: right;\">\n",
       "      <th></th>\n",
       "      <th>genres</th>\n",
       "      <th>id</th>\n",
       "      <th>keywords</th>\n",
       "      <th>overview</th>\n",
       "      <th>title</th>\n",
       "      <th>cast</th>\n",
       "      <th>crew</th>\n",
       "    </tr>\n",
       "  </thead>\n",
       "  <tbody>\n",
       "    <tr>\n",
       "      <th>0</th>\n",
       "      <td>[Action, Adventure, Fantasy, Science Fiction]</td>\n",
       "      <td>19995</td>\n",
       "      <td>[culture clash, future, space war, space colon...</td>\n",
       "      <td>[In, the, 22nd, century,, a, paraplegic, Marin...</td>\n",
       "      <td>Avatar</td>\n",
       "      <td>[Sam Worthington, Zoe Saldana, Sigourney Weaver]</td>\n",
       "      <td>[James Cameron]</td>\n",
       "    </tr>\n",
       "  </tbody>\n",
       "</table>\n",
       "</div>"
      ],
      "text/plain": [
       "                                          genres     id  \\\n",
       "0  [Action, Adventure, Fantasy, Science Fiction]  19995   \n",
       "\n",
       "                                            keywords  \\\n",
       "0  [culture clash, future, space war, space colon...   \n",
       "\n",
       "                                            overview   title  \\\n",
       "0  [In, the, 22nd, century,, a, paraplegic, Marin...  Avatar   \n",
       "\n",
       "                                               cast             crew  \n",
       "0  [Sam Worthington, Zoe Saldana, Sigourney Weaver]  [James Cameron]  "
      ]
     },
     "execution_count": 29,
     "metadata": {},
     "output_type": "execute_result"
    }
   ],
   "source": [
    "movies.head(1)"
   ]
  },
  {
   "cell_type": "markdown",
   "source": [
    "### Removing All Spaces from these columns\n",
    "- By Removing The Spaces, it would be more helpful when the system is finding movie but not getting the exact output...\n",
    "- In That Situation Removing Space is very helpful to find the movie's tags!"
   ],
   "metadata": {
    "collapsed": false,
    "pycharm": {
     "name": "#%% md\n"
    }
   }
  },
  {
   "cell_type": "code",
   "execution_count": 30,
   "id": "3a526744-7a86-4379-b4d2-1fd40be16d4e",
   "metadata": {
    "pycharm": {
     "name": "#%%\n"
    }
   },
   "outputs": [],
   "source": [
    "movies['genres'] = movies['genres'].apply(lambda x:[i.replace(\" \", \"\") for i in x])\n",
    "movies['keywords'] = movies['keywords'].apply(lambda x:[i.replace(\" \", \"\") for i in x])\n",
    "movies['cast'] = movies['cast'].apply(lambda x:[i.replace(\" \", \"\") for i in x])\n",
    "movies['crew'] = movies['crew'].apply(lambda x:[i.replace(\" \", \"\") for i in x])"
   ]
  },
  {
   "cell_type": "code",
   "execution_count": 31,
   "id": "af793885-558b-4c68-a688-7028e6f276a3",
   "metadata": {
    "pycharm": {
     "name": "#%%\n"
    }
   },
   "outputs": [
    {
     "data": {
      "text/html": [
       "<div>\n",
       "<style scoped>\n",
       "    .dataframe tbody tr th:only-of-type {\n",
       "        vertical-align: middle;\n",
       "    }\n",
       "\n",
       "    .dataframe tbody tr th {\n",
       "        vertical-align: top;\n",
       "    }\n",
       "\n",
       "    .dataframe thead th {\n",
       "        text-align: right;\n",
       "    }\n",
       "</style>\n",
       "<table border=\"1\" class=\"dataframe\">\n",
       "  <thead>\n",
       "    <tr style=\"text-align: right;\">\n",
       "      <th></th>\n",
       "      <th>genres</th>\n",
       "      <th>id</th>\n",
       "      <th>keywords</th>\n",
       "      <th>overview</th>\n",
       "      <th>title</th>\n",
       "      <th>cast</th>\n",
       "      <th>crew</th>\n",
       "    </tr>\n",
       "  </thead>\n",
       "  <tbody>\n",
       "    <tr>\n",
       "      <th>0</th>\n",
       "      <td>[Action, Adventure, Fantasy, ScienceFiction]</td>\n",
       "      <td>19995</td>\n",
       "      <td>[cultureclash, future, spacewar, spacecolony, ...</td>\n",
       "      <td>[In, the, 22nd, century,, a, paraplegic, Marin...</td>\n",
       "      <td>Avatar</td>\n",
       "      <td>[SamWorthington, ZoeSaldana, SigourneyWeaver]</td>\n",
       "      <td>[JamesCameron]</td>\n",
       "    </tr>\n",
       "  </tbody>\n",
       "</table>\n",
       "</div>"
      ],
      "text/plain": [
       "                                         genres     id  \\\n",
       "0  [Action, Adventure, Fantasy, ScienceFiction]  19995   \n",
       "\n",
       "                                            keywords  \\\n",
       "0  [cultureclash, future, spacewar, spacecolony, ...   \n",
       "\n",
       "                                            overview   title  \\\n",
       "0  [In, the, 22nd, century,, a, paraplegic, Marin...  Avatar   \n",
       "\n",
       "                                            cast            crew  \n",
       "0  [SamWorthington, ZoeSaldana, SigourneyWeaver]  [JamesCameron]  "
      ]
     },
     "execution_count": 31,
     "metadata": {},
     "output_type": "execute_result"
    }
   ],
   "source": [
    "movies.head(1)"
   ]
  },
  {
   "cell_type": "markdown",
   "source": [
    "### Creating New DataFrame & Removing Remaining Columns"
   ],
   "metadata": {
    "collapsed": false,
    "pycharm": {
     "name": "#%% md\n"
    }
   }
  },
  {
   "cell_type": "code",
   "execution_count": 32,
   "outputs": [],
   "source": [
    "movies['tag'] = movies['overview'] + movies['genres'] + movies['cast'] + movies['crew']"
   ],
   "metadata": {
    "collapsed": false,
    "pycharm": {
     "name": "#%%\n"
    }
   }
  },
  {
   "cell_type": "code",
   "execution_count": 33,
   "id": "fe13b648-6319-4a36-8856-f7547d80b05c",
   "metadata": {
    "pycharm": {
     "name": "#%%\n"
    }
   },
   "outputs": [
    {
     "data": {
      "text/html": [
       "<div>\n",
       "<style scoped>\n",
       "    .dataframe tbody tr th:only-of-type {\n",
       "        vertical-align: middle;\n",
       "    }\n",
       "\n",
       "    .dataframe tbody tr th {\n",
       "        vertical-align: top;\n",
       "    }\n",
       "\n",
       "    .dataframe thead th {\n",
       "        text-align: right;\n",
       "    }\n",
       "</style>\n",
       "<table border=\"1\" class=\"dataframe\">\n",
       "  <thead>\n",
       "    <tr style=\"text-align: right;\">\n",
       "      <th></th>\n",
       "      <th>genres</th>\n",
       "      <th>id</th>\n",
       "      <th>keywords</th>\n",
       "      <th>overview</th>\n",
       "      <th>title</th>\n",
       "      <th>cast</th>\n",
       "      <th>crew</th>\n",
       "      <th>tag</th>\n",
       "    </tr>\n",
       "  </thead>\n",
       "  <tbody>\n",
       "    <tr>\n",
       "      <th>0</th>\n",
       "      <td>[Action, Adventure, Fantasy, ScienceFiction]</td>\n",
       "      <td>19995</td>\n",
       "      <td>[cultureclash, future, spacewar, spacecolony, ...</td>\n",
       "      <td>[In, the, 22nd, century,, a, paraplegic, Marin...</td>\n",
       "      <td>Avatar</td>\n",
       "      <td>[SamWorthington, ZoeSaldana, SigourneyWeaver]</td>\n",
       "      <td>[JamesCameron]</td>\n",
       "      <td>[In, the, 22nd, century,, a, paraplegic, Marin...</td>\n",
       "    </tr>\n",
       "  </tbody>\n",
       "</table>\n",
       "</div>"
      ],
      "text/plain": [
       "                                         genres     id  \\\n",
       "0  [Action, Adventure, Fantasy, ScienceFiction]  19995   \n",
       "\n",
       "                                            keywords  \\\n",
       "0  [cultureclash, future, spacewar, spacecolony, ...   \n",
       "\n",
       "                                            overview   title  \\\n",
       "0  [In, the, 22nd, century,, a, paraplegic, Marin...  Avatar   \n",
       "\n",
       "                                            cast            crew  \\\n",
       "0  [SamWorthington, ZoeSaldana, SigourneyWeaver]  [JamesCameron]   \n",
       "\n",
       "                                                 tag  \n",
       "0  [In, the, 22nd, century,, a, paraplegic, Marin...  "
      ]
     },
     "execution_count": 33,
     "metadata": {},
     "output_type": "execute_result"
    }
   ],
   "source": [
    "movies.head(1)"
   ]
  },
  {
   "cell_type": "code",
   "execution_count": 35,
   "id": "244551e6-8c9f-4d8e-9a76-31d3d2da682f",
   "metadata": {
    "pycharm": {
     "name": "#%%\n"
    }
   },
   "outputs": [],
   "source": [
    "new_df = movies[['id', 'title', 'tag']]"
   ]
  },
  {
   "cell_type": "code",
   "execution_count": 40,
   "id": "dabf0fb0-2f1a-49d8-8f56-188a303fb845",
   "metadata": {
    "pycharm": {
     "name": "#%%\n"
    }
   },
   "outputs": [
    {
     "name": "stderr",
     "output_type": "stream",
     "text": [
      "C:\\Users\\surya\\AppData\\Local\\Temp/ipykernel_4012/56238759.py:2: SettingWithCopyWarning: \n",
      "A value is trying to be set on a copy of a slice from a DataFrame.\n",
      "Try using .loc[row_indexer,col_indexer] = value instead\n",
      "\n",
      "See the caveats in the documentation: https://pandas.pydata.org/pandas-docs/stable/user_guide/indexing.html#returning-a-view-versus-a-copy\n",
      "  new_df['tag'] = new_df['tag'].apply(lambda x:\" \".join(x))\n"
     ]
    }
   ],
   "source": [
    "# Change Tag from List to String!\n",
    "new_df['tag'] = new_df['tag'].apply(lambda x:\" \".join(x))"
   ]
  },
  {
   "cell_type": "code",
   "execution_count": 41,
   "id": "f4d70ff0-2f47-47e9-a9db-8e192261e811",
   "metadata": {
    "pycharm": {
     "name": "#%%\n"
    }
   },
   "outputs": [
    {
     "data": {
      "text/html": [
       "<div>\n",
       "<style scoped>\n",
       "    .dataframe tbody tr th:only-of-type {\n",
       "        vertical-align: middle;\n",
       "    }\n",
       "\n",
       "    .dataframe tbody tr th {\n",
       "        vertical-align: top;\n",
       "    }\n",
       "\n",
       "    .dataframe thead th {\n",
       "        text-align: right;\n",
       "    }\n",
       "</style>\n",
       "<table border=\"1\" class=\"dataframe\">\n",
       "  <thead>\n",
       "    <tr style=\"text-align: right;\">\n",
       "      <th></th>\n",
       "      <th>id</th>\n",
       "      <th>title</th>\n",
       "      <th>tag</th>\n",
       "    </tr>\n",
       "  </thead>\n",
       "  <tbody>\n",
       "    <tr>\n",
       "      <th>0</th>\n",
       "      <td>19995</td>\n",
       "      <td>Avatar</td>\n",
       "      <td>In the 22nd century, a paraplegic Marine is di...</td>\n",
       "    </tr>\n",
       "    <tr>\n",
       "      <th>1</th>\n",
       "      <td>285</td>\n",
       "      <td>Pirates of the Caribbean: At World's End</td>\n",
       "      <td>Captain Barbossa, long believed to be dead, ha...</td>\n",
       "    </tr>\n",
       "    <tr>\n",
       "      <th>2</th>\n",
       "      <td>206647</td>\n",
       "      <td>Spectre</td>\n",
       "      <td>A cryptic message from Bond’s past sends him o...</td>\n",
       "    </tr>\n",
       "    <tr>\n",
       "      <th>3</th>\n",
       "      <td>49026</td>\n",
       "      <td>The Dark Knight Rises</td>\n",
       "      <td>Following the death of District Attorney Harve...</td>\n",
       "    </tr>\n",
       "    <tr>\n",
       "      <th>4</th>\n",
       "      <td>49529</td>\n",
       "      <td>John Carter</td>\n",
       "      <td>John Carter is a war-weary, former military ca...</td>\n",
       "    </tr>\n",
       "  </tbody>\n",
       "</table>\n",
       "</div>"
      ],
      "text/plain": [
       "       id                                     title  \\\n",
       "0   19995                                    Avatar   \n",
       "1     285  Pirates of the Caribbean: At World's End   \n",
       "2  206647                                   Spectre   \n",
       "3   49026                     The Dark Knight Rises   \n",
       "4   49529                               John Carter   \n",
       "\n",
       "                                                 tag  \n",
       "0  In the 22nd century, a paraplegic Marine is di...  \n",
       "1  Captain Barbossa, long believed to be dead, ha...  \n",
       "2  A cryptic message from Bond’s past sends him o...  \n",
       "3  Following the death of District Attorney Harve...  \n",
       "4  John Carter is a war-weary, former military ca...  "
      ]
     },
     "execution_count": 41,
     "metadata": {},
     "output_type": "execute_result"
    }
   ],
   "source": [
    "new_df.head()"
   ]
  },
  {
   "cell_type": "code",
   "execution_count": 44,
   "id": "b32fb025-7fc8-4606-9e5f-08915d600bde",
   "metadata": {
    "pycharm": {
     "name": "#%%\n"
    }
   },
   "outputs": [
    {
     "name": "stderr",
     "output_type": "stream",
     "text": [
      "C:\\Users\\surya\\AppData\\Local\\Temp/ipykernel_4012/2007910017.py:2: SettingWithCopyWarning: \n",
      "A value is trying to be set on a copy of a slice from a DataFrame.\n",
      "Try using .loc[row_indexer,col_indexer] = value instead\n",
      "\n",
      "See the caveats in the documentation: https://pandas.pydata.org/pandas-docs/stable/user_guide/indexing.html#returning-a-view-versus-a-copy\n",
      "  new_df['tag'] = new_df['tag'].apply(lambda x:x.lower())\n"
     ]
    }
   ],
   "source": [
    "# Make Tags into Lowercase\n",
    "new_df['tag'] = new_df['tag'].apply(lambda x:x.lower())"
   ]
  },
  {
   "cell_type": "markdown",
   "source": [
    "### The New DataFram [New_DF]"
   ],
   "metadata": {
    "collapsed": false,
    "pycharm": {
     "name": "#%% md\n"
    }
   }
  },
  {
   "cell_type": "code",
   "execution_count": 45,
   "id": "120f60a3-f922-4604-9b77-78af369c6a2f",
   "metadata": {
    "pycharm": {
     "name": "#%%\n"
    }
   },
   "outputs": [
    {
     "data": {
      "text/html": [
       "<div>\n",
       "<style scoped>\n",
       "    .dataframe tbody tr th:only-of-type {\n",
       "        vertical-align: middle;\n",
       "    }\n",
       "\n",
       "    .dataframe tbody tr th {\n",
       "        vertical-align: top;\n",
       "    }\n",
       "\n",
       "    .dataframe thead th {\n",
       "        text-align: right;\n",
       "    }\n",
       "</style>\n",
       "<table border=\"1\" class=\"dataframe\">\n",
       "  <thead>\n",
       "    <tr style=\"text-align: right;\">\n",
       "      <th></th>\n",
       "      <th>id</th>\n",
       "      <th>title</th>\n",
       "      <th>tag</th>\n",
       "    </tr>\n",
       "  </thead>\n",
       "  <tbody>\n",
       "    <tr>\n",
       "      <th>0</th>\n",
       "      <td>19995</td>\n",
       "      <td>Avatar</td>\n",
       "      <td>in the 22nd century, a paraplegic marine is di...</td>\n",
       "    </tr>\n",
       "    <tr>\n",
       "      <th>1</th>\n",
       "      <td>285</td>\n",
       "      <td>Pirates of the Caribbean: At World's End</td>\n",
       "      <td>captain barbossa, long believed to be dead, ha...</td>\n",
       "    </tr>\n",
       "    <tr>\n",
       "      <th>2</th>\n",
       "      <td>206647</td>\n",
       "      <td>Spectre</td>\n",
       "      <td>a cryptic message from bond’s past sends him o...</td>\n",
       "    </tr>\n",
       "    <tr>\n",
       "      <th>3</th>\n",
       "      <td>49026</td>\n",
       "      <td>The Dark Knight Rises</td>\n",
       "      <td>following the death of district attorney harve...</td>\n",
       "    </tr>\n",
       "    <tr>\n",
       "      <th>4</th>\n",
       "      <td>49529</td>\n",
       "      <td>John Carter</td>\n",
       "      <td>john carter is a war-weary, former military ca...</td>\n",
       "    </tr>\n",
       "  </tbody>\n",
       "</table>\n",
       "</div>"
      ],
      "text/plain": [
       "       id                                     title  \\\n",
       "0   19995                                    Avatar   \n",
       "1     285  Pirates of the Caribbean: At World's End   \n",
       "2  206647                                   Spectre   \n",
       "3   49026                     The Dark Knight Rises   \n",
       "4   49529                               John Carter   \n",
       "\n",
       "                                                 tag  \n",
       "0  in the 22nd century, a paraplegic marine is di...  \n",
       "1  captain barbossa, long believed to be dead, ha...  \n",
       "2  a cryptic message from bond’s past sends him o...  \n",
       "3  following the death of district attorney harve...  \n",
       "4  john carter is a war-weary, former military ca...  "
      ]
     },
     "execution_count": 45,
     "metadata": {},
     "output_type": "execute_result"
    }
   ],
   "source": [
    "new_df.head()"
   ]
  },
  {
   "cell_type": "code",
   "execution_count": 46,
   "id": "a035b7ef-a376-48f3-ac48-498a9895cb33",
   "metadata": {
    "pycharm": {
     "name": "#%%\n"
    }
   },
   "outputs": [
    {
     "data": {
      "text/plain": [
       "'in the 22nd century, a paraplegic marine is dispatched to the moon pandora on a unique mission, but becomes torn between following orders and protecting an alien civilization. action adventure fantasy sciencefiction samworthington zoesaldana sigourneyweaver jamescameron'"
      ]
     },
     "execution_count": 46,
     "metadata": {},
     "output_type": "execute_result"
    }
   ],
   "source": [
    "new_df['tag'][0]"
   ]
  },
  {
   "cell_type": "code",
   "execution_count": 47,
   "id": "3475edaf-4a47-49bf-b5d0-e4b258c5e7fa",
   "metadata": {
    "pycharm": {
     "name": "#%%\n"
    }
   },
   "outputs": [
    {
     "data": {
      "text/plain": [
       "'captain barbossa, long believed to be dead, has come back to life and is headed to the edge of the earth with will turner and elizabeth swann. but nothing is quite as it seems. adventure fantasy action johnnydepp orlandobloom keiraknightley goreverbinski'"
      ]
     },
     "execution_count": 47,
     "metadata": {},
     "output_type": "execute_result"
    }
   ],
   "source": [
    "new_df['tag'][1]"
   ]
  },
  {
   "cell_type": "markdown",
   "source": [
    "### Removing Duplicate Words and Plural Words from the 'Tags'"
   ],
   "metadata": {
    "collapsed": false,
    "pycharm": {
     "name": "#%% md\n"
    }
   }
  },
  {
   "cell_type": "code",
   "execution_count": 60,
   "id": "b04e16e6-c9a2-456a-847e-9ad24c8817e1",
   "metadata": {
    "pycharm": {
     "name": "#%%\n"
    }
   },
   "outputs": [],
   "source": [
    "import nltk"
   ]
  },
  {
   "cell_type": "code",
   "execution_count": 61,
   "id": "8a8d9252-9cd9-473b-ad96-0af5e8e5ce78",
   "metadata": {
    "pycharm": {
     "name": "#%%\n"
    }
   },
   "outputs": [],
   "source": [
    "from nltk.stem.porter import PorterStemmer\n",
    "ps = PorterStemmer()"
   ]
  },
  {
   "cell_type": "code",
   "execution_count": 69,
   "id": "1ea035fe-359e-4490-a987-e103e480ade1",
   "metadata": {
    "pycharm": {
     "name": "#%%\n"
    }
   },
   "outputs": [],
   "source": [
    "def stemmer(text):\n",
    "    y = []\n",
    "    for i in text.split():\n",
    "        y.append(ps.stem(i))\n",
    "    \n",
    "    return \" \".join(y)"
   ]
  },
  {
   "cell_type": "code",
   "execution_count": 70,
   "id": "62f4db02-f7d4-4096-9818-c6d2c2768639",
   "metadata": {
    "pycharm": {
     "name": "#%%\n"
    }
   },
   "outputs": [
    {
     "name": "stderr",
     "output_type": "stream",
     "text": [
      "C:\\Users\\surya\\AppData\\Local\\Temp/ipykernel_4012/3001687473.py:1: SettingWithCopyWarning: \n",
      "A value is trying to be set on a copy of a slice from a DataFrame.\n",
      "Try using .loc[row_indexer,col_indexer] = value instead\n",
      "\n",
      "See the caveats in the documentation: https://pandas.pydata.org/pandas-docs/stable/user_guide/indexing.html#returning-a-view-versus-a-copy\n",
      "  new_df['tag'] = new_df['tag'].apply(stemmer)\n"
     ]
    }
   ],
   "source": [
    "new_df['tag'] = new_df['tag'].apply(stemmer)"
   ]
  },
  {
   "cell_type": "code",
   "execution_count": 71,
   "id": "bcd73ed7-1a36-48c4-b233-877be461acb9",
   "metadata": {
    "pycharm": {
     "name": "#%%\n"
    }
   },
   "outputs": [
    {
     "data": {
      "text/plain": [
       "'in the 22nd century, a parapleg marin is dispatch to the moon pandora on a uniqu mission, but becom torn between follow order and protect an alien civilization. action adventur fantasi sciencefict samworthington zoesaldana sigourneyweav jamescameron'"
      ]
     },
     "execution_count": 71,
     "metadata": {},
     "output_type": "execute_result"
    }
   ],
   "source": [
    "new_df['tag'][0]"
   ]
  },
  {
   "cell_type": "markdown",
   "source": [
    "### Removing Stop Words from the Tags"
   ],
   "metadata": {
    "collapsed": false,
    "pycharm": {
     "name": "#%% md\n"
    }
   }
  },
  {
   "cell_type": "code",
   "execution_count": 73,
   "id": "cc5366a9-a0f7-49b8-9d02-30990a7c851b",
   "metadata": {
    "pycharm": {
     "name": "#%%\n"
    }
   },
   "outputs": [],
   "source": [
    "from sklearn.feature_extraction.text import CountVectorizer\n",
    "cv = CountVectorizer(max_features=5000, stop_words='english')"
   ]
  },
  {
   "cell_type": "code",
   "execution_count": 74,
   "id": "2556efb5-4e42-414a-8749-6364d27bb554",
   "metadata": {
    "pycharm": {
     "name": "#%%\n"
    }
   },
   "outputs": [],
   "source": [
    "vectors = cv.fit_transform(new_df['tag']).toarray()"
   ]
  },
  {
   "cell_type": "code",
   "execution_count": 75,
   "id": "7d81fd38-08f8-4970-8cc2-19da2226f535",
   "metadata": {
    "pycharm": {
     "name": "#%%\n"
    }
   },
   "outputs": [
    {
     "data": {
      "text/plain": [
       "array([[0, 0, 0, ..., 0, 0, 0],\n",
       "       [0, 0, 0, ..., 0, 0, 0],\n",
       "       [0, 0, 0, ..., 0, 0, 0],\n",
       "       ...,\n",
       "       [0, 0, 0, ..., 0, 0, 0],\n",
       "       [0, 0, 0, ..., 0, 0, 0],\n",
       "       [0, 0, 0, ..., 0, 0, 0]], dtype=int64)"
      ]
     },
     "execution_count": 75,
     "metadata": {},
     "output_type": "execute_result"
    }
   ],
   "source": [
    "vectors"
   ]
  },
  {
   "cell_type": "code",
   "execution_count": 76,
   "id": "4ac9dcbf-d842-46a1-91ce-89821381411c",
   "metadata": {
    "pycharm": {
     "name": "#%%\n"
    }
   },
   "outputs": [
    {
     "data": {
      "text/plain": [
       "array([0, 0, 0, ..., 0, 0, 0], dtype=int64)"
      ]
     },
     "execution_count": 76,
     "metadata": {},
     "output_type": "execute_result"
    }
   ],
   "source": [
    "vectors[0]"
   ]
  },
  {
   "cell_type": "code",
   "execution_count": 78,
   "id": "3333a33e-064c-4d55-9464-87de21e305b0",
   "metadata": {
    "collapsed": true,
    "jupyter": {
     "outputs_hidden": true
    },
    "tags": [],
    "pycharm": {
     "name": "#%%\n"
    }
   },
   "outputs": [
    {
     "data": {
      "text/plain": [
       "['000',\n",
       " '007',\n",
       " '10',\n",
       " '100',\n",
       " '11',\n",
       " '12',\n",
       " '12th',\n",
       " '13',\n",
       " '14',\n",
       " '15',\n",
       " '150',\n",
       " '16',\n",
       " '17',\n",
       " '17th',\n",
       " '18',\n",
       " '1890',\n",
       " '18th',\n",
       " '19',\n",
       " '1920',\n",
       " '1930',\n",
       " '1930s',\n",
       " '1937',\n",
       " '1940',\n",
       " '1941',\n",
       " '1944',\n",
       " '1945',\n",
       " '1950',\n",
       " '1950s',\n",
       " '1955',\n",
       " '1959',\n",
       " '1960',\n",
       " '1960s',\n",
       " '1962',\n",
       " '1964',\n",
       " '1965',\n",
       " '1967',\n",
       " '1970',\n",
       " '1970s',\n",
       " '1971',\n",
       " '1972',\n",
       " '1973',\n",
       " '1974',\n",
       " '1976',\n",
       " '1977',\n",
       " '1979',\n",
       " '1980',\n",
       " '1980s',\n",
       " '1984',\n",
       " '1985',\n",
       " '1990',\n",
       " '1994',\n",
       " '1997',\n",
       " '1999',\n",
       " '19th',\n",
       " '20',\n",
       " '200',\n",
       " '2000',\n",
       " '2003',\n",
       " '2009',\n",
       " '20th',\n",
       " '21st',\n",
       " '23',\n",
       " '24',\n",
       " '25',\n",
       " '30',\n",
       " '300',\n",
       " '3d',\n",
       " '40',\n",
       " '50',\n",
       " '500',\n",
       " '60',\n",
       " '60s',\n",
       " '70',\n",
       " '80',\n",
       " 'aaron',\n",
       " 'aaroneckhart',\n",
       " 'aarontaylor',\n",
       " 'abandon',\n",
       " 'abbi',\n",
       " 'abduct',\n",
       " 'abigailbreslin',\n",
       " 'abil',\n",
       " 'abl',\n",
       " 'aboard',\n",
       " 'abov',\n",
       " 'abroad',\n",
       " 'absolut',\n",
       " 'abus',\n",
       " 'academ',\n",
       " 'academi',\n",
       " 'academy',\n",
       " 'accept',\n",
       " 'access',\n",
       " 'accid',\n",
       " 'accident',\n",
       " 'acclaim',\n",
       " 'accompani',\n",
       " 'accomplish',\n",
       " 'account',\n",
       " 'accus',\n",
       " 'ace',\n",
       " 'achiev',\n",
       " 'acquaint',\n",
       " 'acquir',\n",
       " 'act',\n",
       " 'action',\n",
       " 'activ',\n",
       " 'activist',\n",
       " 'activities',\n",
       " 'actor',\n",
       " 'actress',\n",
       " 'actual',\n",
       " 'ad',\n",
       " 'adam',\n",
       " 'adammckay',\n",
       " 'adamsandl',\n",
       " 'adamshankman',\n",
       " 'adapt',\n",
       " 'add',\n",
       " 'addict',\n",
       " 'adjust',\n",
       " 'admir',\n",
       " 'admit',\n",
       " 'adolesc',\n",
       " 'adopt',\n",
       " 'ador',\n",
       " 'adrienbrodi',\n",
       " 'adrift',\n",
       " 'adult',\n",
       " 'adulthood',\n",
       " 'adults',\n",
       " 'advanc',\n",
       " 'advantag',\n",
       " 'adventur',\n",
       " 'adventure',\n",
       " 'adventures',\n",
       " 'advertis',\n",
       " 'advic',\n",
       " 'advis',\n",
       " 'affair',\n",
       " 'affect',\n",
       " 'affluent',\n",
       " 'afghanistan',\n",
       " 'afraid',\n",
       " 'africa',\n",
       " 'african',\n",
       " 'aftermath',\n",
       " 'ag',\n",
       " 'age',\n",
       " 'agenc',\n",
       " 'agency',\n",
       " 'agenda',\n",
       " 'agent',\n",
       " 'agents',\n",
       " 'aggress',\n",
       " 'ago',\n",
       " 'agre',\n",
       " 'ahead',\n",
       " 'aid',\n",
       " 'aidanquinn',\n",
       " 'ail',\n",
       " 'aim',\n",
       " 'air',\n",
       " 'airborn',\n",
       " 'aircraft',\n",
       " 'airport',\n",
       " 'aka',\n",
       " 'al',\n",
       " 'alabama',\n",
       " 'alan',\n",
       " 'alanarkin',\n",
       " 'alaska',\n",
       " 'alaskan',\n",
       " 'albert',\n",
       " 'albertbrook',\n",
       " 'albertfinney',\n",
       " 'alcohol',\n",
       " 'alecbaldwin',\n",
       " 'alejandrogonzáleziñárritu',\n",
       " 'alex',\n",
       " 'alexanderpayn',\n",
       " 'alexanderskarsgård',\n",
       " 'alexapenavega',\n",
       " 'alexia',\n",
       " 'alexisbledel',\n",
       " 'alexkendrick',\n",
       " 'alexpettyf',\n",
       " 'alexproya',\n",
       " 'alfi',\n",
       " 'alfredhitchcock',\n",
       " 'alfredmolina',\n",
       " 'algeria',\n",
       " 'ali',\n",
       " 'alic',\n",
       " 'alice',\n",
       " 'alicebraga',\n",
       " 'alien',\n",
       " 'aliens',\n",
       " 'alik',\n",
       " 'aliv',\n",
       " 'alive',\n",
       " 'alleg',\n",
       " 'allen',\n",
       " 'alli',\n",
       " 'allianc',\n",
       " 'allies',\n",
       " 'allow',\n",
       " 'alon',\n",
       " 'alongsid',\n",
       " 'alpacino',\n",
       " 'alpha',\n",
       " 'alreadi',\n",
       " 'alter',\n",
       " 'altern',\n",
       " 'alway',\n",
       " 'alyssa',\n",
       " 'alzheimer',\n",
       " 'amanda',\n",
       " 'amandabyn',\n",
       " 'amandapeet',\n",
       " 'amandaseyfri',\n",
       " 'amateur',\n",
       " 'amaz',\n",
       " 'ambassador',\n",
       " 'amberheard',\n",
       " 'ambit',\n",
       " 'ambiti',\n",
       " 'ambush',\n",
       " 'america',\n",
       " 'american',\n",
       " 'ami',\n",
       " 'amid',\n",
       " 'amidst',\n",
       " 'amp',\n",
       " 'amus',\n",
       " 'amy',\n",
       " 'amyadam',\n",
       " 'amysmart',\n",
       " 'ana',\n",
       " 'anakin',\n",
       " 'analyst',\n",
       " 'ancient',\n",
       " 'anderson',\n",
       " 'andi',\n",
       " 'andiemacdowel',\n",
       " 'andrew',\n",
       " 'andrewadamson',\n",
       " 'andrewgarfield',\n",
       " 'andrewniccol',\n",
       " 'andrzejbartkowiak',\n",
       " 'andy',\n",
       " 'andyfickman',\n",
       " 'andygarcía',\n",
       " 'andyserki',\n",
       " 'andytenn',\n",
       " 'angel',\n",
       " 'angela',\n",
       " 'angelabassett',\n",
       " 'angeles',\n",
       " 'angelinajoli',\n",
       " 'anger',\n",
       " 'angle',\n",
       " 'angri',\n",
       " 'ani',\n",
       " 'anim',\n",
       " 'animals',\n",
       " 'anjelicahuston',\n",
       " 'ann',\n",
       " 'anna',\n",
       " 'annafari',\n",
       " 'annakendrick',\n",
       " 'anne',\n",
       " 'annefletch',\n",
       " 'annehathaway',\n",
       " 'annehech',\n",
       " 'annemoss',\n",
       " 'annetteben',\n",
       " 'anni',\n",
       " 'annie',\n",
       " 'anniversari',\n",
       " 'announc',\n",
       " 'annual',\n",
       " 'anonym',\n",
       " 'anoth',\n",
       " 'answer',\n",
       " 'answers',\n",
       " 'ant',\n",
       " 'anthoni',\n",
       " 'anthonyanderson',\n",
       " 'anthonyhopkin',\n",
       " 'anthonymacki',\n",
       " 'anti',\n",
       " 'antic',\n",
       " 'antiqu',\n",
       " 'antoinefuqua',\n",
       " 'anton',\n",
       " 'antonio',\n",
       " 'antoniobandera',\n",
       " 'antonyelchin',\n",
       " 'anyon',\n",
       " 'anyth',\n",
       " 'apart',\n",
       " 'apartment',\n",
       " 'ape',\n",
       " 'apes',\n",
       " 'apocalypse',\n",
       " 'apocalypt',\n",
       " 'appar',\n",
       " 'appear',\n",
       " 'appl',\n",
       " 'apple',\n",
       " 'appli',\n",
       " 'appoint',\n",
       " 'appreci',\n",
       " 'apprehend',\n",
       " 'apprentic',\n",
       " 'approach',\n",
       " 'approaches',\n",
       " 'april',\n",
       " 'arab',\n",
       " 'arch',\n",
       " 'archaeologist',\n",
       " 'architect',\n",
       " 'arctic',\n",
       " 'area',\n",
       " 'aren',\n",
       " 'arena',\n",
       " 'argument',\n",
       " 'aris',\n",
       " 'aristocrat',\n",
       " 'arm',\n",
       " 'armi',\n",
       " 'armiehamm',\n",
       " 'armor',\n",
       " 'army',\n",
       " 'arnold',\n",
       " 'arnoldschwarzenegg',\n",
       " 'arrang',\n",
       " 'array',\n",
       " 'arrest',\n",
       " 'arriv',\n",
       " 'arrives',\n",
       " 'arrog',\n",
       " 'art',\n",
       " 'arthur',\n",
       " 'articl',\n",
       " 'artifici',\n",
       " 'artist',\n",
       " 'ash',\n",
       " 'ashley',\n",
       " 'ashleyjudd',\n",
       " 'ashtonkutch',\n",
       " 'asia',\n",
       " 'asid',\n",
       " 'ask',\n",
       " 'aspect',\n",
       " 'aspir',\n",
       " 'assassin',\n",
       " 'assault',\n",
       " 'assembl',\n",
       " 'assign',\n",
       " 'assignment',\n",
       " 'assist',\n",
       " 'assistant',\n",
       " 'associ',\n",
       " 'assum',\n",
       " 'astronaut',\n",
       " 'asylum',\n",
       " 'athlet',\n",
       " 'atlant',\n",
       " 'atom',\n",
       " 'atomegoyan',\n",
       " 'attack',\n",
       " 'attacks',\n",
       " 'attempt',\n",
       " 'attend',\n",
       " 'attent',\n",
       " 'attitud',\n",
       " 'attorney',\n",
       " 'attract',\n",
       " 'audienc',\n",
       " 'audit',\n",
       " 'audreytaut',\n",
       " 'august',\n",
       " 'aunt',\n",
       " 'austin',\n",
       " 'australia',\n",
       " 'australian',\n",
       " 'author',\n",
       " 'auto',\n",
       " 'autobiograph',\n",
       " 'avail',\n",
       " 'aveng',\n",
       " 'averag',\n",
       " 'avoid',\n",
       " 'await',\n",
       " 'awak',\n",
       " 'awaken',\n",
       " 'awar',\n",
       " 'award',\n",
       " 'away',\n",
       " 'awesom',\n",
       " 'awkward',\n",
       " 'awri',\n",
       " 'awry',\n",
       " 'babe',\n",
       " 'babi',\n",
       " 'baby',\n",
       " 'bachelor',\n",
       " 'backdrop',\n",
       " 'background',\n",
       " 'backyard',\n",
       " 'bad',\n",
       " 'bag',\n",
       " 'bail',\n",
       " 'baker',\n",
       " 'balanc',\n",
       " 'ball',\n",
       " 'ballet',\n",
       " 'ban',\n",
       " 'band',\n",
       " 'bandit',\n",
       " 'banish',\n",
       " 'bank',\n",
       " 'banker',\n",
       " 'bar',\n",
       " 'barbara',\n",
       " 'barbrastreisand',\n",
       " 'bare',\n",
       " 'bargain',\n",
       " 'barn',\n",
       " 'barney',\n",
       " 'baron',\n",
       " 'barri',\n",
       " 'barrier',\n",
       " 'barry',\n",
       " 'barrylevinson',\n",
       " 'barrypepp',\n",
       " 'barrysonnenfeld',\n",
       " 'bars',\n",
       " 'bas',\n",
       " 'base',\n",
       " 'basebal',\n",
       " 'basement',\n",
       " 'basketbal',\n",
       " 'basketball',\n",
       " 'batman',\n",
       " 'battalion',\n",
       " 'battl',\n",
       " 'battle',\n",
       " 'bay',\n",
       " 'beach',\n",
       " 'beam',\n",
       " 'bear',\n",
       " 'beast',\n",
       " 'beat',\n",
       " 'beaten',\n",
       " 'beau',\n",
       " 'beauti',\n",
       " 'beautiful',\n",
       " 'beauty',\n",
       " 'becam',\n",
       " 'becaus',\n",
       " 'becki',\n",
       " 'becom',\n",
       " 'bed',\n",
       " 'bedroom',\n",
       " 'bee',\n",
       " 'befor',\n",
       " 'befriend',\n",
       " 'beg',\n",
       " 'began',\n",
       " 'begin',\n",
       " 'begins',\n",
       " 'behavior',\n",
       " 'belief',\n",
       " 'beliefs',\n",
       " 'believ',\n",
       " 'bell',\n",
       " 'bella',\n",
       " 'belong',\n",
       " 'belov',\n",
       " 'ben',\n",
       " 'benaffleck',\n",
       " 'bend',\n",
       " 'beneath',\n",
       " 'benefit',\n",
       " 'benfost',\n",
       " 'beniciodeltoro',\n",
       " 'benjamin',\n",
       " 'benjaminbratt',\n",
       " 'benkingsley',\n",
       " 'bennett',\n",
       " 'benstil',\n",
       " 'bent',\n",
       " 'berlin',\n",
       " 'berniemac',\n",
       " 'best',\n",
       " 'bet',\n",
       " 'beth',\n",
       " 'betray',\n",
       " 'betrayal',\n",
       " 'bettemidl',\n",
       " 'better',\n",
       " 'betti',\n",
       " 'bettythoma',\n",
       " 'beverli',\n",
       " 'biblic',\n",
       " 'bid',\n",
       " 'big',\n",
       " 'bigger',\n",
       " 'biggest',\n",
       " 'bike',\n",
       " 'biker',\n",
       " 'bilbo',\n",
       " 'billcondon',\n",
       " 'billhad',\n",
       " 'billi',\n",
       " 'billion',\n",
       " 'billionair',\n",
       " 'billmoseley',\n",
       " 'billmurray',\n",
       " 'billnighi',\n",
       " 'billpaxton',\n",
       " 'billpullman',\n",
       " 'billybobthornton',\n",
       " 'billyconnolli',\n",
       " 'billycrudup',\n",
       " 'billycryst',\n",
       " 'bind',\n",
       " 'biograph',\n",
       " 'biographi',\n",
       " 'biolog',\n",
       " 'biologist',\n",
       " 'biopic',\n",
       " 'bird',\n",
       " 'birth',\n",
       " 'birthday',\n",
       " 'bishop',\n",
       " 'bit',\n",
       " 'bitter',\n",
       " 'bizarr',\n",
       " 'black',\n",
       " 'blackmail',\n",
       " 'blade',\n",
       " 'blame',\n",
       " 'blaze',\n",
       " 'blend',\n",
       " 'bless',\n",
       " 'blind',\n",
       " 'bliss',\n",
       " 'block',\n",
       " 'blood',\n",
       " 'bloodi',\n",
       " 'bloodthirsti',\n",
       " 'bloom',\n",
       " 'blossom',\n",
       " 'blow',\n",
       " 'blu',\n",
       " 'blue',\n",
       " 'board',\n",
       " 'boat',\n",
       " 'bob',\n",
       " 'bobbi',\n",
       " 'bobbyfarrelli',\n",
       " 'bobhoskin',\n",
       " 'bodi',\n",
       " 'body',\n",
       " 'bodyguard',\n",
       " 'bold',\n",
       " 'bomb',\n",
       " 'bond',\n",
       " 'bone',\n",
       " 'bonniehunt',\n",
       " 'book',\n",
       " 'border',\n",
       " 'bore',\n",
       " 'boring',\n",
       " 'born',\n",
       " 'boss',\n",
       " 'boston',\n",
       " 'botch',\n",
       " 'bound',\n",
       " 'boundari',\n",
       " 'bounti',\n",
       " 'bout',\n",
       " 'box',\n",
       " 'boxer',\n",
       " 'boy',\n",
       " 'boyd',\n",
       " 'boyfriend',\n",
       " 'boys',\n",
       " 'brad',\n",
       " 'bradleycoop',\n",
       " 'bradpitt',\n",
       " 'brain',\n",
       " 'brand',\n",
       " 'brandon',\n",
       " 'brave',\n",
       " 'brazil',\n",
       " 'break',\n",
       " 'breakdown',\n",
       " 'breakup',\n",
       " 'breath',\n",
       " 'breed',\n",
       " 'brendanfras',\n",
       " 'brendangleeson',\n",
       " 'brent',\n",
       " 'brettratn',\n",
       " 'brian',\n",
       " 'briandepalma',\n",
       " 'brianlev',\n",
       " 'brianrobbin',\n",
       " 'bride',\n",
       " 'bridg',\n",
       " 'brief',\n",
       " 'brielarson',\n",
       " 'brien',\n",
       " 'bright',\n",
       " 'brilliant',\n",
       " 'bring',\n",
       " 'brink',\n",
       " 'britain',\n",
       " 'british',\n",
       " 'brittanymurphi',\n",
       " 'broadcast',\n",
       " 'broadway',\n",
       " 'broke',\n",
       " 'broken',\n",
       " 'brook',\n",
       " 'brooklyn',\n",
       " 'brother',\n",
       " 'brothers',\n",
       " 'brought',\n",
       " 'brown',\n",
       " 'bruce',\n",
       " 'brucecampbel',\n",
       " 'brucegreenwood',\n",
       " 'brucewilli',\n",
       " 'brutal',\n",
       " 'bryancranston',\n",
       " 'bryansing',\n",
       " 'bu',\n",
       " 'buck',\n",
       " 'bud',\n",
       " 'buddi',\n",
       " 'buddy',\n",
       " 'budget',\n",
       " 'build',\n",
       " 'building',\n",
       " 'built',\n",
       " 'bullet',\n",
       " 'bulli',\n",
       " 'bumbl',\n",
       " 'bunch',\n",
       " 'buri',\n",
       " 'burn',\n",
       " 'burtreynold',\n",
       " 'bush',\n",
       " 'busi',\n",
       " 'business',\n",
       " 'businessman',\n",
       " 'bust',\n",
       " 'butch',\n",
       " 'butcher',\n",
       " 'butler',\n",
       " 'butt',\n",
       " 'buy',\n",
       " 'buzz',\n",
       " 'cabin',\n",
       " 'caesar',\n",
       " 'cain',\n",
       " 'cal',\n",
       " 'caleb',\n",
       " 'california',\n",
       " 'calm',\n",
       " 'calvin',\n",
       " 'came',\n",
       " 'camera',\n",
       " 'cameraman',\n",
       " 'cameron',\n",
       " 'cameroncrow',\n",
       " 'camerondiaz',\n",
       " 'camgigandet',\n",
       " 'camp',\n",
       " 'campaign',\n",
       " 'campbel',\n",
       " 'campbell',\n",
       " 'campbellscott',\n",
       " 'campu',\n",
       " 'canada',\n",
       " 'canadian',\n",
       " 'cancer',\n",
       " 'candid',\n",
       " 'canin',\n",
       " 'capabl',\n",
       " 'capit',\n",
       " 'capt',\n",
       " 'captain',\n",
       " 'captiv',\n",
       " 'captur',\n",
       " 'capture',\n",
       " 'car',\n",
       " 'card',\n",
       " 'care',\n",
       " 'career',\n",
       " 'carefre',\n",
       " 'careymulligan',\n",
       " 'cargo',\n",
       " 'caribbean',\n",
       " 'carl',\n",
       " 'carlagugino',\n",
       " 'carlo',\n",
       " 'carmen',\n",
       " 'carol',\n",
       " 'carolina',\n",
       " 'carri',\n",
       " 'carrie',\n",
       " 'carriefish',\n",
       " 'cartel',\n",
       " 'carter',\n",
       " 'caryelw',\n",
       " 'case',\n",
       " 'caseyaffleck',\n",
       " 'cash',\n",
       " 'casino',\n",
       " 'cast',\n",
       " 'castl',\n",
       " 'castle',\n",
       " 'cat',\n",
       " 'catastroph',\n",
       " 'catch',\n",
       " 'cateblanchett',\n",
       " 'catherin',\n",
       " 'catherinedeneuv',\n",
       " 'catherinehardwick',\n",
       " 'catherinekeen',\n",
       " 'catherinezeta',\n",
       " 'cathol',\n",
       " 'cattl',\n",
       " 'caught',\n",
       " 'caus',\n",
       " 'cause',\n",
       " 'cave',\n",
       " 'cedrictheentertain',\n",
       " 'celebr',\n",
       " 'celebration',\n",
       " 'cell',\n",
       " 'center',\n",
       " 'centr',\n",
       " 'central',\n",
       " 'centuri',\n",
       " 'centuries',\n",
       " 'century',\n",
       " 'ceo',\n",
       " 'certain',\n",
       " 'chad',\n",
       " 'chain',\n",
       " 'challeng',\n",
       " 'chamber',\n",
       " 'champion',\n",
       " 'championship',\n",
       " 'chanc',\n",
       " 'chance',\n",
       " 'chang',\n",
       " 'change',\n",
       " 'changed',\n",
       " 'changes',\n",
       " 'channel',\n",
       " 'channingtatum',\n",
       " 'chao',\n",
       " 'chaos',\n",
       " 'chaotic',\n",
       " 'chapter',\n",
       " 'charact',\n",
       " 'character',\n",
       " 'characters',\n",
       " 'charg',\n",
       " 'charismat',\n",
       " 'charl',\n",
       " 'charless',\n",
       " 'charli',\n",
       " 'charlie',\n",
       " 'charliesheen',\n",
       " 'charlizetheron',\n",
       " 'charlott',\n",
       " 'charm',\n",
       " 'chart',\n",
       " 'chase',\n",
       " 'chazzpalminteri',\n",
       " 'cheat',\n",
       " 'check',\n",
       " 'cheerlead',\n",
       " 'chef',\n",
       " 'chemic',\n",
       " 'cher',\n",
       " 'chevychas',\n",
       " 'chicago',\n",
       " 'chicken',\n",
       " 'chief',\n",
       " 'child',\n",
       " 'childhood',\n",
       " 'children',\n",
       " 'chill',\n",
       " 'china',\n",
       " 'chines',\n",
       " 'chip',\n",
       " 'chiwetelejiofor',\n",
       " 'chloe',\n",
       " 'chloëgracemoretz',\n",
       " 'chloësevigni',\n",
       " 'choic',\n",
       " 'choice',\n",
       " 'chon',\n",
       " 'choos',\n",
       " 'chosen',\n",
       " 'chowyun',\n",
       " 'chri',\n",
       " 'chriscolumbu',\n",
       " 'chriscoop',\n",
       " 'chrisevan',\n",
       " 'chrishemsworth',\n",
       " 'chrisklein',\n",
       " 'chrispin',\n",
       " 'chrisrock',\n",
       " 'christ',\n",
       " 'christian',\n",
       " 'christianbal',\n",
       " 'christianslat',\n",
       " 'christin',\n",
       " 'christinaappleg',\n",
       " 'christinaricci',\n",
       " 'christma',\n",
       " 'christmas',\n",
       " 'christoph',\n",
       " 'christopherguest',\n",
       " 'christopherlambert',\n",
       " 'christopherlloyd',\n",
       " 'christophernolan',\n",
       " 'christopherplumm',\n",
       " 'christopherwalken',\n",
       " 'christophwaltz',\n",
       " 'chrisweitz',\n",
       " 'chronicl',\n",
       " 'chuck',\n",
       " 'chuckrussel',\n",
       " 'church',\n",
       " 'cia',\n",
       " 'ciaránhind',\n",
       " 'cillianmurphi',\n",
       " 'cindi',\n",
       " 'cinema',\n",
       " 'circl',\n",
       " 'circle',\n",
       " 'circu',\n",
       " 'circuit',\n",
       " 'circumst',\n",
       " 'circumstances',\n",
       " 'citi',\n",
       " 'citizen',\n",
       " 'city',\n",
       " 'civil',\n",
       " 'civilian',\n",
       " 'civilization',\n",
       " 'claim',\n",
       " 'clair',\n",
       " 'clairedan',\n",
       " 'claireforlani',\n",
       " 'clan',\n",
       " 'clark',\n",
       " 'clash',\n",
       " 'class',\n",
       " 'classic',\n",
       " 'classmat',\n",
       " 'claudevandamm',\n",
       " 'clay',\n",
       " 'clean',\n",
       " 'clear',\n",
       " 'clerk',\n",
       " 'client',\n",
       " 'clients',\n",
       " 'climat',\n",
       " 'climb',\n",
       " 'clinteastwood',\n",
       " 'cliveowen',\n",
       " 'clock',\n",
       " 'clone',\n",
       " 'close',\n",
       " 'closer',\n",
       " 'cloud',\n",
       " 'club',\n",
       " 'clue',\n",
       " 'clueless',\n",
       " 'clutch',\n",
       " 'coach',\n",
       " 'coast',\n",
       " 'coastal',\n",
       " 'cocain',\n",
       " 'cocki',\n",
       " 'code',\n",
       " 'codi',\n",
       " 'cohen',\n",
       " 'col',\n",
       " 'cold',\n",
       " 'cole',\n",
       " 'colehaus',\n",
       " 'colin',\n",
       " 'colinfarrel',\n",
       " 'colinfirth',\n",
       " 'collaps',\n",
       " 'collapse',\n",
       " 'colleagu',\n",
       " 'colleague',\n",
       " 'collect',\n",
       " 'collector',\n",
       " 'colleg',\n",
       " 'college',\n",
       " 'collid',\n",
       " 'collide',\n",
       " 'collis',\n",
       " 'colon',\n",
       " 'colonel',\n",
       " 'coloni',\n",
       " 'color',\n",
       " 'colorado',\n",
       " 'coma',\n",
       " 'combat',\n",
       " 'combin',\n",
       " 'come',\n",
       " 'comeback',\n",
       " 'comed',\n",
       " 'comedi',\n",
       " 'comedian',\n",
       " 'comedy',\n",
       " 'comfort',\n",
       " 'comic',\n",
       " 'coming',\n",
       " 'command',\n",
       " 'commerci',\n",
       " 'commiss',\n",
       " 'commit',\n",
       " 'common',\n",
       " 'commun',\n",
       " 'communist',\n",
       " 'community',\n",
       " 'compani',\n",
       " 'companion',\n",
       " 'company',\n",
       " 'compet',\n",
       " 'competit',\n",
       " 'competition',\n",
       " 'complet',\n",
       " 'complex',\n",
       " 'complic',\n",
       " 'compos',\n",
       " 'compound',\n",
       " 'compromis',\n",
       " 'compton',\n",
       " 'compuls',\n",
       " 'comput',\n",
       " 'computer',\n",
       " 'conan',\n",
       " 'concern',\n",
       " 'concert',\n",
       " 'concoct',\n",
       " 'condit',\n",
       " 'condition',\n",
       " 'conduct',\n",
       " 'confid',\n",
       " 'confin',\n",
       " 'conflict',\n",
       " 'confront',\n",
       " 'confus',\n",
       " 'connect',\n",
       " 'connecticut',\n",
       " 'connel',\n",
       " 'conni',\n",
       " 'connienielsen',\n",
       " 'connor',\n",
       " 'conquer',\n",
       " 'conrad',\n",
       " 'conscience',\n",
       " 'consequ',\n",
       " 'consequences',\n",
       " 'conserv',\n",
       " 'consid',\n",
       " 'conspir',\n",
       " 'conspiraci',\n",
       " 'conspiracy',\n",
       " 'constant',\n",
       " 'constantli',\n",
       " 'construct',\n",
       " 'consum',\n",
       " 'contact',\n",
       " 'contain',\n",
       " 'contempl',\n",
       " 'contemporari',\n",
       " 'contend',\n",
       " 'content',\n",
       " 'contest',\n",
       " ...]"
      ]
     },
     "execution_count": 78,
     "metadata": {},
     "output_type": "execute_result"
    }
   ],
   "source": [
    "cv.get_feature_names()"
   ]
  },
  {
   "cell_type": "code",
   "execution_count": 79,
   "id": "e4dc78e9-bb53-4bf4-a118-a15823be0d05",
   "metadata": {
    "pycharm": {
     "name": "#%%\n"
    }
   },
   "outputs": [
    {
     "data": {
      "text/plain": [
       "(4806, 5000)"
      ]
     },
     "execution_count": 79,
     "metadata": {},
     "output_type": "execute_result"
    }
   ],
   "source": [
    "vectors.shape"
   ]
  },
  {
   "cell_type": "markdown",
   "source": [
    "### Finding Similarities using Cosine_Similarity"
   ],
   "metadata": {
    "collapsed": false,
    "pycharm": {
     "name": "#%% md\n"
    }
   }
  },
  {
   "cell_type": "code",
   "execution_count": 80,
   "id": "7f77eb79-1bac-45a0-823b-3cec8315399d",
   "metadata": {
    "pycharm": {
     "name": "#%%\n"
    }
   },
   "outputs": [],
   "source": [
    "# Now Measuring Cosine Distance\n",
    "# Using Cosine Similarities\n",
    "from sklearn.metrics.pairwise import cosine_similarity"
   ]
  },
  {
   "cell_type": "code",
   "execution_count": 83,
   "id": "b10ca84d-2954-48ce-b81f-601d2753461c",
   "metadata": {
    "pycharm": {
     "name": "#%%\n"
    }
   },
   "outputs": [
    {
     "data": {
      "text/plain": [
       "(4806, 4806)"
      ]
     },
     "execution_count": 83,
     "metadata": {},
     "output_type": "execute_result"
    }
   ],
   "source": [
    "cosine_similarity(vectors).shape"
   ]
  },
  {
   "cell_type": "code",
   "execution_count": 84,
   "id": "2ef6e248-fa84-4a64-8b67-7039e3338f09",
   "metadata": {
    "pycharm": {
     "name": "#%%\n"
    }
   },
   "outputs": [],
   "source": [
    "similarity = cosine_similarity(vectors)"
   ]
  },
  {
   "cell_type": "code",
   "execution_count": 88,
   "id": "f5c8ae71-d7cc-4f4c-b363-5248d25779ce",
   "metadata": {
    "pycharm": {
     "name": "#%%\n"
    }
   },
   "outputs": [
    {
     "data": {
      "text/plain": [
       "array([1.        , 0.13957263, 0.08206099, ..., 0.        , 0.        ,\n",
       "       0.        ])"
      ]
     },
     "execution_count": 88,
     "metadata": {},
     "output_type": "execute_result"
    }
   ],
   "source": [
    "similarity[0]"
   ]
  },
  {
   "cell_type": "code",
   "execution_count": 102,
   "id": "36a2c8a6-93d8-40bf-aabd-0e71fe6d5343",
   "metadata": {
    "collapsed": true,
    "jupyter": {
     "outputs_hidden": true
    },
    "tags": [],
    "pycharm": {
     "name": "#%%\n"
    }
   },
   "outputs": [
    {
     "data": {
      "text/plain": [
       "[(6, 1.0),\n",
       " (2315, 0.19090088708030312),\n",
       " (1990, 0.15152288168283162),\n",
       " (255, 0.14920941939059815),\n",
       " (2645, 0.14754222271266348),\n",
       " (2786, 0.14754222271266348),\n",
       " (39, 0.14699878726500756),\n",
       " (67, 0.14699878726500756),\n",
       " (506, 0.14285714285714285),\n",
       " (1438, 0.14285714285714285),\n",
       " (55, 0.14175398238766682),\n",
       " (2402, 0.1349873117890097),\n",
       " (393, 0.13263952726932277),\n",
       " (330, 0.13109470506889243),\n",
       " (182, 0.13071306028508972),\n",
       " (251, 0.1292191476761844),\n",
       " (2925, 0.12777531299998798),\n",
       " (2970, 0.12777531299998798),\n",
       " (734, 0.1263788195613404),\n",
       " (4264, 0.12626906806902632),\n",
       " (54, 0.12371791482634839),\n",
       " (3764, 0.12073632210407378),\n",
       " (615, 0.11915109374689986),\n",
       " (3907, 0.11587244366483038),\n",
       " (160, 0.11470786693528087),\n",
       " (34, 0.11454053224818188),\n",
       " (194, 0.11454053224818188),\n",
       " (256, 0.11454053224818188),\n",
       " (381, 0.11454053224818188),\n",
       " (2278, 0.11454053224818188),\n",
       " (86, 0.11437725271791938),\n",
       " (1626, 0.11428571428571428),\n",
       " (106, 0.1129384878631564),\n",
       " (1600, 0.1129384878631564),\n",
       " (2686, 0.1129384878631564),\n",
       " (390, 0.11206636293610517),\n",
       " (429, 0.11206636293610517),\n",
       " (538, 0.11206636293610517),\n",
       " (4196, 0.11206636293610517),\n",
       " (1367, 0.11155268706329005),\n",
       " (3077, 0.11065666703449761),\n",
       " (4642, 0.11065666703449761),\n",
       " (1252, 0.108857251714449),\n",
       " (1104, 0.10714285714285714),\n",
       " (1416, 0.10714285714285714),\n",
       " (3721, 0.10714285714285714),\n",
       " (3946, 0.10714285714285714),\n",
       " (1418, 0.10647942749999),\n",
       " (87, 0.1061116218154582),\n",
       " (414, 0.1061116218154582),\n",
       " (550, 0.1061116218154582),\n",
       " (1682, 0.1061116218154582),\n",
       " (4063, 0.10531568296778365),\n",
       " (741, 0.1043281061914602),\n",
       " (509, 0.10418927964135324),\n",
       " (1155, 0.10418927964135324),\n",
       " (88, 0.10394383930128556),\n",
       " (2122, 0.10394383930128556),\n",
       " (3001, 0.10394383930128556),\n",
       " (4010, 0.10394383930128556),\n",
       " (525, 0.10263160115815709),\n",
       " (2631, 0.10263160115815709),\n",
       " (4775, 0.10263160115815709),\n",
       " (533, 0.10101525445522108),\n",
       " (546, 0.10101525445522108),\n",
       " (1231, 0.10101525445522108),\n",
       " (1476, 0.10101525445522108),\n",
       " (1520, 0.10101525445522108),\n",
       " (2218, 0.10101525445522108),\n",
       " (3584, 0.10101525445522108),\n",
       " (4463, 0.10101525445522108),\n",
       " (4472, 0.10101525445522108),\n",
       " (4673, 0.10101525445522108),\n",
       " (558, 0.10101525445522105),\n",
       " (704, 0.10101525445522105),\n",
       " (1440, 0.10101525445522105),\n",
       " (4624, 0.10101525445522105),\n",
       " (4636, 0.10101525445522105),\n",
       " (286, 0.1000200060020007),\n",
       " (1593, 0.1000200060020007),\n",
       " (42, 0.09947294626039876),\n",
       " (3140, 0.09947294626039876),\n",
       " (269, 0.09832102880166932),\n",
       " (564, 0.09832102880166932),\n",
       " (1365, 0.09832102880166932),\n",
       " (1662, 0.09832102880166932),\n",
       " (3780, 0.09832102880166932),\n",
       " (4482, 0.09832102880166932),\n",
       " (1297, 0.09799919151000504),\n",
       " (3452, 0.09799919151000504),\n",
       " (180, 0.09658905768325902),\n",
       " (187, 0.09658905768325902),\n",
       " (399, 0.09658905768325902),\n",
       " (1708, 0.09658905768325902),\n",
       " (1936, 0.09658905768325902),\n",
       " (2916, 0.09658905768325902),\n",
       " (1431, 0.09583148474999098),\n",
       " (1458, 0.09583148474999098),\n",
       " (1886, 0.09583148474999098),\n",
       " (2550, 0.09583148474999098),\n",
       " (3610, 0.09583148474999098),\n",
       " (3731, 0.09545044354015156),\n",
       " (164, 0.09523809523809523),\n",
       " (3037, 0.09523809523809523),\n",
       " (3888, 0.09523809523809523),\n",
       " (4538, 0.09523809523809523),\n",
       " (565, 0.09460945407607455),\n",
       " (896, 0.09460945407607455),\n",
       " (339, 0.09394227846020416),\n",
       " (587, 0.09394227846020416),\n",
       " (1198, 0.09394227846020416),\n",
       " (1293, 0.09394227846020416),\n",
       " (1751, 0.09379030918551609),\n",
       " (3298, 0.09379030918551609),\n",
       " (144, 0.09352195295828244),\n",
       " (604, 0.09352195295828244),\n",
       " (1044, 0.09352195295828244),\n",
       " (1451, 0.09269795493186431),\n",
       " (2998, 0.0916698497028211),\n",
       " (139, 0.0915018021743355),\n",
       " (3285, 0.0915018021743355),\n",
       " (3416, 0.0915018021743355),\n",
       " (275, 0.09137173558097589),\n",
       " (358, 0.09137173558097589),\n",
       " (488, 0.09137173558097589),\n",
       " (686, 0.09137173558097589),\n",
       " (1036, 0.09137173558097589),\n",
       " (3195, 0.09137173558097589),\n",
       " (3674, 0.09137173558097589),\n",
       " (3825, 0.09035079029052512),\n",
       " (476, 0.0893633203101749),\n",
       " (539, 0.0893633203101749),\n",
       " (562, 0.0893633203101749),\n",
       " (934, 0.0893633203101749),\n",
       " (952, 0.0893633203101749),\n",
       " (1364, 0.0893633203101749),\n",
       " (2996, 0.0893633203101749),\n",
       " (2063, 0.08924214965063204),\n",
       " (2596, 0.08924214965063204),\n",
       " (3042, 0.08924214965063204),\n",
       " (13, 0.08924214965063203),\n",
       " (2477, 0.08817334283548109),\n",
       " (154, 0.08748177652797065),\n",
       " (742, 0.08748177652797065),\n",
       " (931, 0.08748177652797065),\n",
       " (1032, 0.08748177652797065),\n",
       " (1469, 0.08748177652797065),\n",
       " (1471, 0.08748177652797065),\n",
       " (1658, 0.08748177652797065),\n",
       " (2976, 0.08748177652797065),\n",
       " (3133, 0.08748177652797065),\n",
       " (169, 0.0871420401900598),\n",
       " (2445, 0.0861460984507896),\n",
       " (3454, 0.0861460984507896),\n",
       " (196, 0.08571428571428572),\n",
       " (325, 0.08571428571428572),\n",
       " (899, 0.08571428571428572),\n",
       " (1843, 0.08571428571428572),\n",
       " (3530, 0.08571428571428572),\n",
       " (4652, 0.08571428571428572),\n",
       " (364, 0.085183541999992),\n",
       " (2049, 0.08512565307587486),\n",
       " (479, 0.08477011844241808),\n",
       " (777, 0.08425254637422692),\n",
       " (1457, 0.08425254637422692),\n",
       " (1561, 0.08425254637422692),\n",
       " (3017, 0.08425254637422692),\n",
       " (152, 0.08404977220207888),\n",
       " (352, 0.08404977220207888),\n",
       " (614, 0.08404977220207888),\n",
       " (920, 0.08404977220207888),\n",
       " (1243, 0.08404977220207888),\n",
       " (1295, 0.08404977220207888),\n",
       " (1404, 0.08404977220207888),\n",
       " (1423, 0.08404977220207888),\n",
       " (1490, 0.08404977220207888),\n",
       " (2188, 0.08404977220207888),\n",
       " (2810, 0.08404977220207888),\n",
       " (3376, 0.08404977220207888),\n",
       " (4786, 0.08360081942580755),\n",
       " (447, 0.0833514237130826),\n",
       " (1223, 0.0833514237130826),\n",
       " (2782, 0.0833514237130826),\n",
       " (2190, 0.08303402767415662),\n",
       " (177, 0.08247860988423227),\n",
       " (674, 0.08247860988423227),\n",
       " (3720, 0.08247860988423227),\n",
       " (4405, 0.08247860988423227),\n",
       " (4641, 0.08247860988423227),\n",
       " (430, 0.08247860988423225),\n",
       " (597, 0.08247860988423225),\n",
       " (3934, 0.08247860988423225),\n",
       " (4274, 0.08247860988423225),\n",
       " (467, 0.08163265306122448),\n",
       " (732, 0.08163265306122448),\n",
       " (3193, 0.08099238707340584),\n",
       " (167, 0.08099238707340582),\n",
       " (805, 0.08099238707340582),\n",
       " (3549, 0.08099238707340582),\n",
       " (403, 0.08081220356417686),\n",
       " (2470, 0.08081220356417686),\n",
       " (3407, 0.08081220356417686),\n",
       " (3951, 0.07992898356345547),\n",
       " (294, 0.07958371636159366),\n",
       " (807, 0.07958371636159366),\n",
       " (894, 0.07958371636159366),\n",
       " (2151, 0.07958371636159366),\n",
       " (151, 0.07924288517503274),\n",
       " (458, 0.07924288517503274),\n",
       " (1783, 0.07924288517503274),\n",
       " (1862, 0.07924288517503274),\n",
       " (2585, 0.07924288517503274),\n",
       " (3210, 0.07924288517503274),\n",
       " (4563, 0.07924288517503274),\n",
       " (2549, 0.0784917508278223),\n",
       " (268, 0.07824607964359515),\n",
       " (328, 0.07824607964359515),\n",
       " (503, 0.07824607964359515),\n",
       " (922, 0.07824607964359515),\n",
       " (1519, 0.07824607964359515),\n",
       " (2060, 0.07824607964359515),\n",
       " (2300, 0.07824607964359515),\n",
       " (2357, 0.07824607964359515),\n",
       " (3526, 0.07824607964359515),\n",
       " (3956, 0.07824607964359515),\n",
       " (4055, 0.07824607964359515),\n",
       " (950, 0.07776157913597391),\n",
       " (224, 0.07705141285294195),\n",
       " (2491, 0.07705141285294195),\n",
       " (4381, 0.07705141285294195),\n",
       " (311, 0.07697370086861782),\n",
       " (603, 0.07697370086861782),\n",
       " (678, 0.07697370086861782),\n",
       " (766, 0.07697370086861782),\n",
       " (1701, 0.07697370086861782),\n",
       " (2495, 0.07697370086861782),\n",
       " (494, 0.07636035483212125),\n",
       " (1202, 0.07636035483212125),\n",
       " (1437, 0.07636035483212125),\n",
       " (1444, 0.07636035483212125),\n",
       " (1989, 0.07636035483212125),\n",
       " (2213, 0.07636035483212125),\n",
       " (2472, 0.07636035483212125),\n",
       " (2685, 0.07636035483212125),\n",
       " (3363, 0.07636035483212125),\n",
       " (3374, 0.07636035483212125),\n",
       " (3529, 0.07636035483212125),\n",
       " (3949, 0.07636035483212125),\n",
       " (3966, 0.07636035483212125),\n",
       " (4110, 0.0757614408414158),\n",
       " (130, 0.07576144084141578),\n",
       " (996, 0.07576144084141578),\n",
       " (1623, 0.07576144084141578),\n",
       " (1733, 0.07568756326085964),\n",
       " (1463, 0.07503224734841288),\n",
       " (4751, 0.07503224734841288),\n",
       " (96, 0.07460470969529907),\n",
       " (394, 0.07460470969529907),\n",
       " (631, 0.07460470969529907),\n",
       " (1514, 0.07460470969529907),\n",
       " (2276, 0.07460470969529907),\n",
       " (3902, 0.07460470969529907),\n",
       " (4558, 0.07460470969529907),\n",
       " (189, 0.07377111135633174),\n",
       " (216, 0.07377111135633174),\n",
       " (218, 0.07377111135633174),\n",
       " (504, 0.07377111135633174),\n",
       " (774, 0.07377111135633174),\n",
       " (776, 0.07377111135633174),\n",
       " (1201, 0.07377111135633174),\n",
       " (2023, 0.07377111135633174),\n",
       " (2590, 0.07377111135633174),\n",
       " (2675, 0.07377111135633174),\n",
       " (4072, 0.07377111135633174),\n",
       " (4737, 0.07377111135633174),\n",
       " (4742, 0.07377111135633174),\n",
       " (163, 0.07349939363250378),\n",
       " (528, 0.07349939363250378),\n",
       " (1098, 0.07349939363250378),\n",
       " (1831, 0.07349939363250378),\n",
       " (2450, 0.07349939363250378),\n",
       " (4343, 0.07349939363250378),\n",
       " (4584, 0.07349939363250378),\n",
       " (985, 0.07290148043997555),\n",
       " (318, 0.072571501142966),\n",
       " (99, 0.07244179326244427),\n",
       " (291, 0.07244179326244427),\n",
       " (453, 0.07244179326244427),\n",
       " (508, 0.07244179326244427),\n",
       " (689, 0.07244179326244427),\n",
       " (1676, 0.07244179326244427),\n",
       " (2056, 0.07244179326244427),\n",
       " (2162, 0.07244179326244427),\n",
       " (3300, 0.07244179326244427),\n",
       " (3, 0.07199323295413851),\n",
       " (44, 0.07142857142857142),\n",
       " (118, 0.07142857142857142),\n",
       " (168, 0.07142857142857142),\n",
       " (178, 0.07142857142857142),\n",
       " (184, 0.07142857142857142),\n",
       " (301, 0.07142857142857142),\n",
       " (459, 0.07142857142857142),\n",
       " (695, 0.07142857142857142),\n",
       " (1323, 0.07142857142857142),\n",
       " (1539, 0.07142857142857142),\n",
       " (1789, 0.07142857142857142),\n",
       " (1850, 0.07142857142857142),\n",
       " (1956, 0.07142857142857142),\n",
       " (2223, 0.07142857142857142),\n",
       " (2332, 0.07142857142857142),\n",
       " (2621, 0.07142857142857142),\n",
       " (3527, 0.07142857142857142),\n",
       " (3567, 0.07142857142857142),\n",
       " (3648, 0.07142857142857142),\n",
       " (3824, 0.07142857142857142),\n",
       " (4018, 0.07142857142857142),\n",
       " (4444, 0.07142857142857142),\n",
       " (4557, 0.07142857142857142),\n",
       " (3583, 0.07087699119383341),\n",
       " (9, 0.07045670884515312),\n",
       " (464, 0.07045670884515312),\n",
       " (1675, 0.07038066272602093),\n",
       " (1898, 0.07033799484533299),\n",
       " (127, 0.06981111106074583),\n",
       " (3670, 0.06975329646609937),\n",
       " (262, 0.06952346619889824),\n",
       " (1485, 0.06952346619889824),\n",
       " (1739, 0.06952346619889824),\n",
       " (1771, 0.06952346619889824),\n",
       " (1801, 0.06952346619889824),\n",
       " (2352, 0.06952346619889824),\n",
       " (2438, 0.06952346619889824),\n",
       " (3102, 0.06952346619889824),\n",
       " (3879, 0.06952346619889824),\n",
       " (4459, 0.06952346619889824),\n",
       " (435, 0.0692958928675237),\n",
       " (465, 0.0692958928675237),\n",
       " (561, 0.0692958928675237),\n",
       " (810, 0.0692958928675237),\n",
       " (866, 0.0692958928675237),\n",
       " (995, 0.0692958928675237),\n",
       " (1076, 0.0692958928675237),\n",
       " (1156, 0.0692958928675237),\n",
       " (1502, 0.0692958928675237),\n",
       " (2127, 0.0692958928675237),\n",
       " (2299, 0.0692958928675237),\n",
       " (2338, 0.0692958928675237),\n",
       " (2406, 0.0692958928675237),\n",
       " (2778, 0.0692958928675237),\n",
       " (3157, 0.0692958928675237),\n",
       " (3972, 0.0692958928675237),\n",
       " (4040, 0.0692958928675237),\n",
       " (4198, 0.0692958928675237),\n",
       " (4535, 0.0692958928675237),\n",
       " (569, 0.06862635163075162),\n",
       " (2408, 0.06862635163075162),\n",
       " (3580, 0.06862635163075162),\n",
       " (3616, 0.06862635163075162),\n",
       " (3737, 0.06862635163075162),\n",
       " (4260, 0.06862635163075162),\n",
       " (2386, 0.06829877767625106),\n",
       " (221, 0.06776309271789384),\n",
       " (225, 0.06776309271789384),\n",
       " (1030, 0.06776309271789384),\n",
       " (1957, 0.06776309271789384),\n",
       " (2740, 0.06776309271789384),\n",
       " (3091, 0.06776309271789384),\n",
       " (3545, 0.06776309271789384),\n",
       " (81, 0.06734350297014739),\n",
       " (157, 0.06734350297014739),\n",
       " (172, 0.06734350297014739),\n",
       " (179, 0.06734350297014739),\n",
       " (308, 0.06734350297014739),\n",
       " (626, 0.06734350297014739),\n",
       " (744, 0.06734350297014739),\n",
       " (989, 0.06734350297014739),\n",
       " (1147, 0.06734350297014739),\n",
       " (1189, 0.06734350297014739),\n",
       " (1381, 0.06734350297014739),\n",
       " (2270, 0.06734350297014739),\n",
       " (2848, 0.06734350297014739),\n",
       " (2919, 0.06734350297014739),\n",
       " (3088, 0.06734350297014739),\n",
       " (3242, 0.06734350297014739),\n",
       " (3356, 0.06734350297014739),\n",
       " (3558, 0.06734350297014739),\n",
       " (4056, 0.06734350297014739),\n",
       " (4211, 0.06734350297014739),\n",
       " (4653, 0.06734350297014739),\n",
       " (4656, 0.06734350297014739),\n",
       " (137, 0.06719434774168552),\n",
       " (124, 0.06693161223797403),\n",
       " (173, 0.06693161223797403),\n",
       " (234, 0.06693161223797403),\n",
       " (4480, 0.06693161223797403),\n",
       " (4255, 0.06693161223797402),\n",
       " (3481, 0.0664272221393253),\n",
       " (3377, 0.06631976363466138),\n",
       " (213, 0.06613000712661082),\n",
       " (514, 0.06613000712661082),\n",
       " (1357, 0.06613000712661082),\n",
       " (1369, 0.06613000712661082),\n",
       " (1432, 0.06613000712661082),\n",
       " (1692, 0.06613000712661082),\n",
       " (2467, 0.06613000712661082),\n",
       " (770, 0.06613000712661081),\n",
       " (205, 0.06554735253444621),\n",
       " (209, 0.06554735253444621),\n",
       " (259, 0.06554735253444621),\n",
       " (276, 0.06554735253444621),\n",
       " (288, 0.06554735253444621),\n",
       " (762, 0.06554735253444621),\n",
       " (858, 0.06554735253444621),\n",
       " (1055, 0.06554735253444621),\n",
       " (1062, 0.06554735253444621),\n",
       " (1065, 0.06554735253444621),\n",
       " (1208, 0.06554735253444621),\n",
       " (1288, 0.06554735253444621),\n",
       " (1294, 0.06554735253444621),\n",
       " (1525, 0.06554735253444621),\n",
       " (1527, 0.06554735253444621),\n",
       " (1770, 0.06554735253444621),\n",
       " (2737, 0.06554735253444621),\n",
       " (2901, 0.06554735253444621),\n",
       " (3055, 0.06554735253444621),\n",
       " (3063, 0.06554735253444621),\n",
       " (3347, 0.06554735253444621),\n",
       " (4331, 0.06554735253444621),\n",
       " (4542, 0.06554735253444621),\n",
       " (4691, 0.06554735253444621),\n",
       " (563, 0.06535653014254486),\n",
       " (3147, 0.06535653014254486),\n",
       " (4129, 0.06520506636966263),\n",
       " (2832, 0.06470154480826261),\n",
       " (930, 0.06460957383809221),\n",
       " (942, 0.06460957383809221),\n",
       " (1729, 0.06460957383809221),\n",
       " (2209, 0.06460957383809221),\n",
       " (2366, 0.06460957383809221),\n",
       " (2978, 0.06460957383809221),\n",
       " (2992, 0.06460957383809221),\n",
       " (3012, 0.06460957383809221),\n",
       " (3592, 0.06460957383809221),\n",
       " (4644, 0.06460957383809221),\n",
       " (56, 0.06388765649999399),\n",
       " (57, 0.06388765649999399),\n",
       " (141, 0.06388765649999399),\n",
       " (228, 0.06388765649999399),\n",
       " (613, 0.06388765649999399),\n",
       " (918, 0.06388765649999399),\n",
       " (1061, 0.06388765649999399),\n",
       " (1267, 0.06388765649999399),\n",
       " (1305, 0.06388765649999399),\n",
       " (1327, 0.06388765649999399),\n",
       " (1677, 0.06388765649999399),\n",
       " (1795, 0.06388765649999399),\n",
       " (1891, 0.06388765649999399),\n",
       " (1904, 0.06388765649999399),\n",
       " (2202, 0.06388765649999399),\n",
       " (2241, 0.06388765649999399),\n",
       " (2395, 0.06388765649999399),\n",
       " (2592, 0.06388765649999399),\n",
       " (2808, 0.06388765649999399),\n",
       " (2869, 0.06388765649999399),\n",
       " (3016, 0.06388765649999399),\n",
       " (3250, 0.06388765649999399),\n",
       " (3336, 0.06388765649999399),\n",
       " (3420, 0.06388765649999399),\n",
       " (3467, 0.06388765649999399),\n",
       " (4596, 0.06388765649999399),\n",
       " (4688, 0.06388765649999399),\n",
       " (170, 0.0631894097806702),\n",
       " (812, 0.0631894097806702),\n",
       " (1857, 0.0631894097806702),\n",
       " (2344, 0.0631894097806702),\n",
       " (2448, 0.0631894097806702),\n",
       " (3044, 0.0631894097806702),\n",
       " (939, 0.06272243427982305),\n",
       " (377, 0.06251356778481196),\n",
       " (529, 0.06251356778481196),\n",
       " (531, 0.06251356778481196),\n",
       " (1095, 0.06251356778481196),\n",
       " (2903, 0.06251356778481196),\n",
       " (90, 0.062347968638854966),\n",
       " (104, 0.062347968638854966),\n",
       " (122, 0.062347968638854966),\n",
       " (263, 0.062347968638854966),\n",
       " (356, 0.062347968638854966),\n",
       " (452, 0.062347968638854966),\n",
       " (1052, 0.062347968638854966),\n",
       " (1681, 0.062347968638854966),\n",
       " (1713, 0.062347968638854966),\n",
       " (1833, 0.062347968638854966),\n",
       " (1971, 0.062347968638854966),\n",
       " (2355, 0.062347968638854966),\n",
       " (2447, 0.062347968638854966),\n",
       " (2707, 0.062347968638854966),\n",
       " (2751, 0.062347968638854966),\n",
       " (2847, 0.062347968638854966),\n",
       " (3004, 0.062347968638854966),\n",
       " (3224, 0.062347968638854966),\n",
       " (3264, 0.062347968638854966),\n",
       " (3403, 0.062347968638854966),\n",
       " (299, 0.061858957413174195),\n",
       " (698, 0.061858957413174195),\n",
       " (874, 0.061858957413174195),\n",
       " (1639, 0.061858957413174195),\n",
       " (1704, 0.061858957413174195),\n",
       " (2358, 0.061858957413174195),\n",
       " (820, 0.06126357341930256),\n",
       " (58, 0.061224489795918366),\n",
       " (1598, 0.061224489795918366),\n",
       " (0, 0.060914490387317256),\n",
       " (237, 0.060914490387317256),\n",
       " (368, 0.060914490387317256),\n",
       " (404, 0.060914490387317256),\n",
       " (433, 0.060914490387317256),\n",
       " (668, 0.060914490387317256),\n",
       " (700, 0.060914490387317256),\n",
       " (772, 0.060914490387317256),\n",
       " (980, 0.060914490387317256),\n",
       " (1292, 0.060914490387317256),\n",
       " (1726, 0.060914490387317256),\n",
       " (1860, 0.060914490387317256),\n",
       " (1976, 0.060914490387317256),\n",
       " (2378, 0.060914490387317256),\n",
       " (2396, 0.060914490387317256),\n",
       " (2443, 0.060914490387317256),\n",
       " (2615, 0.060914490387317256),\n",
       " (2683, 0.060914490387317256),\n",
       " (2806, 0.060914490387317256),\n",
       " (3839, 0.060914490387317256),\n",
       " (4355, 0.060914490387317256),\n",
       " (4361, 0.060914490387317256),\n",
       " (4604, 0.060914490387317256),\n",
       " (1874, 0.060609152673132646),\n",
       " (3881, 0.060609152673132646),\n",
       " (4317, 0.060609152673132646),\n",
       " (518, 0.06001200360120042),\n",
       " (1547, 0.06001200360120042),\n",
       " (1659, 0.06001200360120042),\n",
       " (2191, 0.06001200360120042),\n",
       " (128, 0.05957554687344993),\n",
       " (348, 0.05957554687344993),\n",
       " (359, 0.05957554687344993),\n",
       " (449, 0.05957554687344993),\n",
       " (606, 0.05957554687344993),\n",
       " (707, 0.05957554687344993),\n",
       " (1058, 0.05957554687344993),\n",
       " (1085, 0.05957554687344993),\n",
       " (1194, 0.05957554687344993),\n",
       " (1304, 0.05957554687344993),\n",
       " (1374, 0.05957554687344993),\n",
       " (2067, 0.05957554687344993),\n",
       " (2171, 0.05957554687344993),\n",
       " (2638, 0.05957554687344993),\n",
       " (3085, 0.05957554687344993),\n",
       " (3277, 0.05957554687344993),\n",
       " (3842, 0.05957554687344993),\n",
       " (3867, 0.05957554687344993),\n",
       " (3901, 0.05957554687344993),\n",
       " (3982, 0.05957554687344993),\n",
       " (4290, 0.05957554687344993),\n",
       " (4578, 0.05957554687344993),\n",
       " (4683, 0.05957554687344993),\n",
       " (1462, 0.05943216388127455),\n",
       " (2080, 0.05943216388127455),\n",
       " (3522, 0.05943216388127455),\n",
       " (1855, 0.058868813120866725),\n",
       " (2838, 0.058868813120866725),\n",
       " (4207, 0.058868813120866725),\n",
       " (4798, 0.058868813120866725),\n",
       " (138, 0.058321184351980436),\n",
       " (293, 0.058321184351980436),\n",
       " (769, 0.058321184351980436),\n",
       " (818, 0.058321184351980436),\n",
       " (1158, 0.058321184351980436),\n",
       " (1199, 0.058321184351980436),\n",
       " (1217, 0.058321184351980436),\n",
       " (1241, 0.058321184351980436),\n",
       " (1274, 0.058321184351980436),\n",
       " (1280, 0.058321184351980436),\n",
       " (1657, 0.058321184351980436),\n",
       " (1866, 0.058321184351980436),\n",
       " (2047, 0.058321184351980436),\n",
       " (2110, 0.058321184351980436),\n",
       " (2588, 0.058321184351980436),\n",
       " (2816, 0.058321184351980436),\n",
       " (2843, 0.058321184351980436),\n",
       " (3213, 0.058321184351980436),\n",
       " (3770, 0.058321184351980436),\n",
       " (3851, 0.058321184351980436),\n",
       " (4490, 0.058321184351980436),\n",
       " (4669, 0.058321184351980436),\n",
       " (4717, 0.058321184351980436),\n",
       " (491, 0.05832118435198043),\n",
       " (555, 0.058019780864778235),\n",
       " (355, 0.057788559639706465),\n",
       " (1459, 0.057788559639706465),\n",
       " (1772, 0.057788559639706465),\n",
       " (4178, 0.057788559639706465),\n",
       " (48, 0.05727026612409094),\n",
       " (471, 0.05727026612409094),\n",
       " (198, 0.05714285714285714),\n",
       " (202, 0.05714285714285714),\n",
       " (266, 0.05714285714285714),\n",
       " (292, 0.05714285714285714),\n",
       " (389, 0.05714285714285714),\n",
       " (392, 0.05714285714285714),\n",
       " (400, 0.05714285714285714),\n",
       " (634, 0.05714285714285714),\n",
       " (708, 0.05714285714285714),\n",
       " (825, 0.05714285714285714),\n",
       " (972, 0.05714285714285714),\n",
       " (1086, 0.05714285714285714),\n",
       " (1142, 0.05714285714285714),\n",
       " (1368, 0.05714285714285714),\n",
       " (1388, 0.05714285714285714),\n",
       " (1434, 0.05714285714285714),\n",
       " (2075, 0.05714285714285714),\n",
       " (2120, 0.05714285714285714),\n",
       " (2501, 0.05714285714285714),\n",
       " (2538, 0.05714285714285714),\n",
       " (2562, 0.05714285714285714),\n",
       " (2817, 0.05714285714285714),\n",
       " (2826, 0.05714285714285714),\n",
       " (2868, 0.05714285714285714),\n",
       " (3841, 0.05714285714285714),\n",
       " (3857, 0.05714285714285714),\n",
       " (4511, 0.05714285714285714),\n",
       " (4579, 0.05714285714285714),\n",
       " (4752, 0.05714285714285714),\n",
       " (578, 0.05676567244564473),\n",
       " (842, 0.05676567244564473),\n",
       " (1111, 0.05676567244564473),\n",
       " (4043, 0.05676567244564473),\n",
       " (3212, 0.05664654183701029),\n",
       " (2168, 0.056579859598667105),\n",
       " (982, 0.05627418551130966),\n",
       " (1277, 0.05627418551130966),\n",
       " (1876, 0.05627418551130966),\n",
       " (3524, 0.05627418551130966),\n",
       " (4466, 0.05627418551130966),\n",
       " (120, 0.056033181468052584),\n",
       " (236, 0.056033181468052584),\n",
       " (326, 0.056033181468052584),\n",
       " (784, 0.056033181468052584),\n",
       " (828, 0.056033181468052584),\n",
       " (1047, 0.056033181468052584),\n",
       " (1234, 0.056033181468052584),\n",
       " (1316, 0.056033181468052584),\n",
       " (1383, 0.056033181468052584),\n",
       " (1420, 0.056033181468052584),\n",
       " (1486, 0.056033181468052584),\n",
       " (1602, 0.056033181468052584),\n",
       " (1640, 0.056033181468052584),\n",
       " (2349, 0.056033181468052584),\n",
       " (2851, 0.056033181468052584),\n",
       " (3256, 0.056033181468052584),\n",
       " (3626, 0.056033181468052584),\n",
       " (1775, 0.055795247563210235),\n",
       " (4647, 0.055795247563210235),\n",
       " (391, 0.05532833351724881),\n",
       " (607, 0.05532833351724881),\n",
       " (1509, 0.05532833351724881),\n",
       " (219, 0.0549857399228215),\n",
       " (257, 0.0549857399228215),\n",
       " (837, 0.0549857399228215),\n",
       " (973, 0.0549857399228215),\n",
       " (976, 0.0549857399228215),\n",
       " (1096, 0.0549857399228215),\n",
       " (1661, 0.0549857399228215),\n",
       " (1688, 0.0549857399228215),\n",
       " (1717, 0.0549857399228215),\n",
       " (1946, 0.0549857399228215),\n",
       " (2095, 0.0549857399228215),\n",
       " (2228, 0.0549857399228215),\n",
       " (2471, 0.0549857399228215),\n",
       " (3255, 0.0549857399228215),\n",
       " (3332, 0.0549857399228215),\n",
       " (3860, 0.0549857399228215),\n",
       " (3999, 0.0549857399228215),\n",
       " (4663, 0.0549857399228215),\n",
       " (45, 0.054872948542669706),\n",
       " (51, 0.054872948542669706),\n",
       " (2256, 0.054872948542669706),\n",
       " (2860, 0.054428625857224494),\n",
       " (3271, 0.054428625857224494),\n",
       " (146, 0.054237599757285655),\n",
       " (142, 0.05399492471560388),\n",
       " (327, 0.05399492471560388),\n",
       " (402, 0.05399492471560388),\n",
       " (441, 0.05399492471560388),\n",
       " (1207, 0.05399492471560388),\n",
       " (1306, 0.05399492471560388),\n",
       " (1397, 0.05399492471560388),\n",
       " (1589, 0.05399492471560388),\n",
       " (1832, 0.05399492471560388),\n",
       " (1854, 0.05399492471560388),\n",
       " (2116, 0.05399492471560388),\n",
       " (2148, 0.05399492471560388),\n",
       " (2196, 0.05399492471560388),\n",
       " (2517, 0.05399492471560388),\n",
       " (2624, 0.05399492471560388),\n",
       " (2661, 0.05399492471560388),\n",
       " (3005, 0.05399492471560388),\n",
       " (3039, 0.05399492471560388),\n",
       " (3187, 0.05399492471560388),\n",
       " (3297, 0.05399492471560388),\n",
       " (3321, 0.05399492471560388),\n",
       " (3538, 0.05399492471560388),\n",
       " (4162, 0.05399492471560388),\n",
       " (4391, 0.05399492471560388),\n",
       " (4408, 0.05399492471560388),\n",
       " (4602, 0.05399492471560388),\n",
       " (38, 0.05357142857142857),\n",
       " (285, 0.05357142857142857),\n",
       " (845, 0.05357142857142857),\n",
       " (1587, 0.05357142857142857),\n",
       " (4429, 0.05315774339537506),\n",
       " (4695, 0.05315774339537506),\n",
       " (24, 0.0530558109077291),\n",
       " (75, 0.0530558109077291),\n",
       " (295, 0.0530558109077291),\n",
       " (690, 0.0530558109077291),\n",
       " (754, 0.0530558109077291),\n",
       " (879, 0.0530558109077291),\n",
       " (955, 0.0530558109077291),\n",
       " (2266, 0.0530558109077291),\n",
       " (2513, 0.0530558109077291),\n",
       " (2576, 0.0530558109077291),\n",
       " (2684, 0.0530558109077291),\n",
       " (2767, 0.0530558109077291),\n",
       " (2800, 0.0530558109077291),\n",
       " (2932, 0.0530558109077291),\n",
       " (3329, 0.0530558109077291),\n",
       " (4107, 0.0530558109077291),\n",
       " (4166, 0.0530558109077291),\n",
       " (4495, 0.0530558109077291),\n",
       " (4693, 0.0530558109077291),\n",
       " (974, 0.052801519353898055),\n",
       " (230, 0.05275349613399974),\n",
       " (1282, 0.052358333295559376),\n",
       " (1477, 0.052358333295559376),\n",
       " (121, 0.0521640530957301),\n",
       " (181, 0.0521640530957301),\n",
       " (300, 0.0521640530957301),\n",
       " (303, 0.0521640530957301),\n",
       " (370, 0.0521640530957301),\n",
       " (455, 0.0521640530957301),\n",
       " (713, 0.0521640530957301),\n",
       " (794, 0.0521640530957301),\n",
       " (960, 0.0521640530957301),\n",
       " (987, 0.0521640530957301),\n",
       " (1100, 0.0521640530957301),\n",
       " (1196, 0.0521640530957301),\n",
       " (1260, 0.0521640530957301),\n",
       " (1313, 0.0521640530957301),\n",
       " (1325, 0.0521640530957301),\n",
       " (1568, 0.0521640530957301),\n",
       " (1586, 0.0521640530957301),\n",
       " (1749, 0.0521640530957301),\n",
       " (1821, 0.0521640530957301),\n",
       " (1859, 0.0521640530957301),\n",
       " (2224, 0.0521640530957301),\n",
       " (2230, 0.0521640530957301),\n",
       " (2400, 0.0521640530957301),\n",
       " (2486, 0.0521640530957301),\n",
       " (3322, 0.0521640530957301),\n",
       " (3355, 0.0521640530957301),\n",
       " (3386, 0.0521640530957301),\n",
       " (3606, 0.0521640530957301),\n",
       " (4141, 0.0521640530957301),\n",
       " (4420, 0.0521640530957301),\n",
       " (1863, 0.05209463982067662),\n",
       " (1136, 0.05197191965064278),\n",
       " (1395, 0.05197191965064278),\n",
       " (3947, 0.05197191965064278),\n",
       " (3986, 0.05197191965064278),\n",
       " (4612, 0.05197191965064278),\n",
       " (975, 0.05195664053237913),\n",
       " (289, 0.05159393703675823),\n",
       " (747, 0.05159393703675823),\n",
       " (3489, 0.05159393703675823),\n",
       " (439, 0.051315800579078544),\n",
       " (745, 0.051315800579078544),\n",
       " (775, 0.051315800579078544),\n",
       " (984, 0.051315800579078544),\n",
       " (1249, 0.051315800579078544),\n",
       " (1767, 0.051315800579078544),\n",
       " (1997, 0.051315800579078544),\n",
       " (2253, 0.051315800579078544),\n",
       " (2500, 0.051315800579078544),\n",
       " (2516, 0.051315800579078544),\n",
       " (2892, 0.051315800579078544),\n",
       " (3301, 0.051315800579078544),\n",
       " (3411, 0.051315800579078544),\n",
       " (4098, 0.051315800579078544),\n",
       " (4519, 0.051315800579078544),\n",
       " (790, 0.05086207106545085),\n",
       " (21, 0.05050762722761053),\n",
       " (40, 0.05050762722761053),\n",
       " (50, 0.05050762722761053),\n",
       " (530, 0.05050762722761053),\n",
       " (582, 0.05050762722761053),\n",
       " (1037, 0.05050762722761053),\n",
       " (1149, 0.05050762722761053),\n",
       " (1386, 0.05050762722761053),\n",
       " (1827, 0.05050762722761053),\n",
       " (1920, 0.05050762722761053),\n",
       " (2204, 0.05050762722761053),\n",
       " (2215, 0.05050762722761053),\n",
       " (2243, 0.05050762722761053),\n",
       " (3050, 0.05050762722761053),\n",
       " (3557, 0.05050762722761053),\n",
       " (3953, 0.05050762722761053),\n",
       " (4053, 0.05050762722761053),\n",
       " (4246, 0.05050762722761053),\n",
       " (4494, 0.05050762722761053),\n",
       " (4516, 0.05050762722761053),\n",
       " (4777, 0.05050762722761053),\n",
       " (1819, 0.05031148036146422),\n",
       " (3061, 0.05016049165548453),\n",
       " (2734, 0.049820416604493975),\n",
       " (3272, 0.049820416604493975),\n",
       " (4711, 0.049820416604493975),\n",
       " (36, 0.04973647313019938),\n",
       " (76, 0.04973647313019938),\n",
       " (204, 0.04973647313019938),\n",
       " (254, 0.04973647313019938),\n",
       " (576, 0.04973647313019938),\n",
       " (644, 0.04973647313019938),\n",
       " (833, 0.04973647313019938),\n",
       " (956, 0.04973647313019938),\n",
       " (1006, 0.04973647313019938),\n",
       " (1271, 0.04973647313019938),\n",
       " (1355, 0.04973647313019938),\n",
       " (1548, 0.04973647313019938),\n",
       " (2125, 0.04973647313019938),\n",
       " (2372, 0.04973647313019938),\n",
       " (2449, 0.04973647313019938),\n",
       " (2642, 0.04973647313019938),\n",
       " (3926, 0.04973647313019938),\n",
       " (3695, 0.049549141115664),\n",
       " (1487, 0.04948716593053934),\n",
       " (2733, 0.04948716593053934),\n",
       " (3274, 0.04948716593053934),\n",
       " (91, 0.04899959575500252),\n",
       " (210, 0.04899959575500252),\n",
       " (340, 0.04899959575500252),\n",
       " (396, 0.04899959575500252),\n",
       " (472, 0.04899959575500252),\n",
       " (659, 0.04899959575500252),\n",
       " (859, 0.04899959575500252),\n",
       " (926, 0.04899959575500252),\n",
       " (1123, 0.04899959575500252),\n",
       " (1290, 0.04899959575500252),\n",
       " (1814, 0.04899959575500252),\n",
       " (1823, 0.04899959575500252),\n",
       " (1900, 0.04899959575500252),\n",
       " (1982, 0.04899959575500252),\n",
       " (2069, 0.04899959575500252),\n",
       " (2128, 0.04899959575500252),\n",
       " (2659, 0.04899959575500252),\n",
       " (3226, 0.04899959575500252),\n",
       " (3320, 0.04899959575500252),\n",
       " (3428, 0.04899959575500252),\n",
       " (3675, 0.04899959575500252),\n",
       " (4289, 0.04899959575500252),\n",
       " (4320, 0.04899959575500252),\n",
       " (4329, 0.04899959575500252),\n",
       " (4739, 0.04899959575500252),\n",
       " (374, 0.04884024705413055),\n",
       " (2688, 0.04864323032907134),\n",
       " (92, 0.04829452884162951),\n",
       " (305, 0.04829452884162951),\n",
       " (548, 0.04829452884162951),\n",
       " (1012, 0.04829452884162951),\n",
       " (1043, 0.04829452884162951),\n",
       " (1168, 0.04829452884162951),\n",
       " (2246, 0.04829452884162951),\n",
       " (2377, 0.04829452884162951),\n",
       " (2502, 0.04829452884162951),\n",
       " (2583, 0.04829452884162951),\n",
       " (3011, 0.04829452884162951),\n",
       " (3045, 0.04829452884162951),\n",
       " (3214, 0.04829452884162951),\n",
       " (3361, 0.04829452884162951),\n",
       " (4626, 0.04829452884162951),\n",
       " (4710, 0.04829452884162951),\n",
       " (1456, 0.04791574237499549),\n",
       " (3000, 0.04791574237499549),\n",
       " (3906, 0.0477852577146909),\n",
       " (4, 0.047619047619047616),\n",
       " (7, 0.047619047619047616),\n",
       " (63, 0.047619047619047616),\n",
       " (192, 0.047619047619047616),\n",
       " (243, 0.047619047619047616),\n",
       " (387, 0.047619047619047616),\n",
       " (442, 0.047619047619047616),\n",
       " (513, 0.047619047619047616),\n",
       " (643, 0.047619047619047616),\n",
       " (1148, 0.047619047619047616),\n",
       " (1180, 0.047619047619047616),\n",
       " (1296, 0.047619047619047616),\n",
       " (1758, 0.047619047619047616),\n",
       " (1968, 0.047619047619047616),\n",
       " (2232, 0.047619047619047616),\n",
       " (2409, 0.047619047619047616),\n",
       " (3002, 0.047619047619047616),\n",
       " (3154, 0.047619047619047616),\n",
       " (3244, 0.047619047619047616),\n",
       " (3690, 0.047619047619047616),\n",
       " (4348, 0.047619047619047616),\n",
       " (4409, 0.047619047619047616),\n",
       " (4517, 0.047619047619047616),\n",
       " (4532, 0.047619047619047616),\n",
       " (274, 0.04745455991642284),\n",
       " (1429, 0.047041825709867285),\n",
       " (694, 0.04697113923010208),\n",
       " (1454, 0.04697113923010208),\n",
       " (1508, 0.04697113923010208),\n",
       " (1788, 0.04697113923010208),\n",
       " (1842, 0.04697113923010208),\n",
       " (2013, 0.04697113923010208),\n",
       " (2423, 0.04697113923010208),\n",
       " (2547, 0.04697113923010208),\n",
       " (3677, 0.04697113923010208),\n",
       " (3747, 0.04697113923010208),\n",
       " (4268, 0.04697113923010208),\n",
       " (4523, 0.04697113923010208),\n",
       " (4640, 0.04697113923010208),\n",
       " (5, 0.046348977465932154),\n",
       " (131, 0.046348977465932154),\n",
       " (248, 0.046348977465932154),\n",
       " (692, 0.046348977465932154),\n",
       " (767, 0.046348977465932154),\n",
       " (1401, 0.046348977465932154),\n",
       " (1546, 0.046348977465932154),\n",
       " (1614, 0.046348977465932154),\n",
       " (1747, 0.046348977465932154),\n",
       " (1952, 0.046348977465932154),\n",
       " (2048, 0.046348977465932154),\n",
       " (2973, 0.046348977465932154),\n",
       " (3064, 0.046348977465932154),\n",
       " (3748, 0.046348977465932154),\n",
       " (3750, 0.046348977465932154),\n",
       " (3755, 0.046348977465932154),\n",
       " (1634, 0.04621404565861646),\n",
       " (2207, 0.04621404565861646),\n",
       " (116, 0.04575090108716775),\n",
       " (136, 0.04575090108716775),\n",
       " (211, 0.04575090108716775),\n",
       " (347, 0.04575090108716775),\n",
       " (481, 0.04575090108716775),\n",
       " (522, 0.04575090108716775),\n",
       " (540, 0.04575090108716775),\n",
       " (566, 0.04575090108716775),\n",
       " (816, 0.04575090108716775),\n",
       " (1023, 0.04575090108716775),\n",
       " (1070, 0.04575090108716775),\n",
       " (1930, 0.04575090108716775),\n",
       " (1938, 0.04575090108716775),\n",
       " (2160, 0.04575090108716775),\n",
       " (2453, 0.04575090108716775),\n",
       " (3717, 0.04575090108716775),\n",
       " (4180, 0.04575090108716775),\n",
       " (4250, 0.04575090108716775),\n",
       " (4446, 0.04575090108716775),\n",
       " (4730, 0.04575090108716775),\n",
       " (4768, 0.04575090108716775),\n",
       " (2433, 0.045685867790487944),\n",
       " (161, 0.04517539514526256),\n",
       " (410, 0.04517539514526256),\n",
       " (545, 0.04517539514526256),\n",
       " (573, 0.04517539514526256),\n",
       " (655, 0.04517539514526256),\n",
       " (722, 0.04517539514526256),\n",
       " (804, 0.04517539514526256),\n",
       " (888, 0.04517539514526256),\n",
       " (897, 0.04517539514526256),\n",
       " (908, 0.04517539514526256),\n",
       " (988, 0.04517539514526256),\n",
       " (1320, 0.04517539514526256),\n",
       " (1557, 0.04517539514526256),\n",
       " (1913, 0.04517539514526256),\n",
       " (1951, 0.04517539514526256),\n",
       " (2237, 0.04517539514526256),\n",
       " (2387, 0.04517539514526256),\n",
       " (2404, 0.04517539514526256),\n",
       " (2437, 0.04517539514526256),\n",
       " (3025, 0.04517539514526256),\n",
       " (3146, 0.04517539514526256),\n",
       " (3402, 0.04517539514526256),\n",
       " (3507, 0.04517539514526256),\n",
       " (3539, 0.04517539514526256),\n",
       " (3687, 0.04517539514526256),\n",
       " (3735, 0.04517539514526256),\n",
       " (3804, 0.04517539514526256),\n",
       " (3935, 0.04517539514526256),\n",
       " ...]"
      ]
     },
     "execution_count": 102,
     "metadata": {},
     "output_type": "execute_result"
    }
   ],
   "source": [
    "sorted(list(enumerate(similarity[6])), reverse=True, key=lambda x:x[1])"
   ]
  },
  {
   "cell_type": "code",
   "execution_count": 95,
   "id": "28778d42-7176-4f2a-b952-1a97725106b0",
   "metadata": {
    "pycharm": {
     "name": "#%%\n"
    }
   },
   "outputs": [
    {
     "data": {
      "text/plain": [
       "[(11, 0.3442651863295482),\n",
       " (1346, 0.3285091522175248),\n",
       " (4077, 0.30242156957551825),\n",
       " (29, 0.29643243059996244),\n",
       " (3166, 0.2501595914621521)]"
      ]
     },
     "execution_count": 95,
     "metadata": {},
     "output_type": "execute_result"
    }
   ],
   "source": [
    "sorted(list(enumerate(similarity[2])), reverse=True, key=lambda x:x[1])[1:6]"
   ]
  },
  {
   "cell_type": "code",
   "execution_count": 114,
   "id": "8c9b06b2-5147-48f4-835d-6e4ac894437e",
   "metadata": {
    "pycharm": {
     "name": "#%%\n"
    }
   },
   "outputs": [],
   "source": [
    "def recommend(movie):\n",
    "    movie_index = new_df[new_df['title'] == movie].index[0]\n",
    "    distances = similarity[movie_index]\n",
    "    \n",
    "    movies_list = sorted(list(enumerate(distances)), reverse=True, key=lambda x:x[1])[1:6]\n",
    "    \n",
    "    for i in movies_list:\n",
    "        print(new_df.iloc[i[0]].title)"
   ]
  },
  {
   "cell_type": "code",
   "execution_count": 143,
   "id": "312b7850-6070-490c-a4b4-45cda325372c",
   "metadata": {
    "pycharm": {
     "name": "#%%\n"
    }
   },
   "outputs": [
    {
     "name": "stdout",
     "output_type": "stream",
     "text": [
      "Iron Man 3\n",
      "Iron Man 2\n",
      "Avengers: Age of Ultron\n",
      "The Helix... Loaded\n",
      "Teenage Mutant Ninja Turtles II: The Secret of the Ooze\n"
     ]
    }
   ],
   "source": [
    "recommend('Iron Man')"
   ]
  },
  {
   "cell_type": "code",
   "execution_count": 136,
   "id": "177bcb0a-6fdd-436e-ba7e-0247e9a9ca72",
   "metadata": {
    "pycharm": {
     "name": "#%%\n"
    }
   },
   "outputs": [
    {
     "name": "stdout",
     "output_type": "stream",
     "text": [
      "[[   0    1    2 ... 4806 4807 4808]]\n"
     ]
    }
   ],
   "source": [
    "for i in new_df['title'] == 'The Wolverine':\n",
    "    if i == 1:\n",
    "        print(new_df.index[i])"
   ]
  },
  {
   "cell_type": "markdown",
   "source": [
    "### Dumping The Data in pkl format!"
   ],
   "metadata": {
    "collapsed": false,
    "pycharm": {
     "name": "#%% md\n"
    }
   }
  },
  {
   "cell_type": "code",
   "execution_count": 138,
   "id": "f099cb47-94b0-4c4b-b45e-524539eafddc",
   "metadata": {
    "pycharm": {
     "name": "#%%\n"
    }
   },
   "outputs": [],
   "source": [
    "import pickle"
   ]
  },
  {
   "cell_type": "code",
   "execution_count": 140,
   "id": "5950122c-a7ed-438d-9f7c-60fee9c28ce1",
   "metadata": {
    "pycharm": {
     "name": "#%%\n"
    }
   },
   "outputs": [],
   "source": [
    "pickle.dump(new_df.to_dict(), open('movies_dict.pkl', 'wb'))"
   ]
  },
  {
   "cell_type": "code",
   "execution_count": 144,
   "id": "33b87692-2ae5-4563-89f8-460e94f103ac",
   "metadata": {
    "pycharm": {
     "name": "#%%\n"
    }
   },
   "outputs": [],
   "source": [
    "pickle.dump(similarity, open('similarity.pkl', 'wb'))"
   ]
  },
  {
   "cell_type": "code",
   "execution_count": null,
   "id": "c4e0a48d-01eb-4e78-b3f9-5f6ec8745607",
   "metadata": {
    "pycharm": {
     "name": "#%%\n"
    }
   },
   "outputs": [],
   "source": []
  }
 ],
 "metadata": {
  "kernelspec": {
   "display_name": "Python 3 (ipykernel)",
   "language": "python",
   "name": "python3"
  },
  "language_info": {
   "codemirror_mode": {
    "name": "ipython",
    "version": 3
   },
   "file_extension": ".py",
   "mimetype": "text/x-python",
   "name": "python",
   "nbconvert_exporter": "python",
   "pygments_lexer": "ipython3",
   "version": "3.9.7"
  }
 },
 "nbformat": 4,
 "nbformat_minor": 5
}